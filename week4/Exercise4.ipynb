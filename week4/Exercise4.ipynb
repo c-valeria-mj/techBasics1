{
 "cells": [
  {
   "metadata": {},
   "cell_type": "markdown",
   "source": [
    "### Function\n",
    "\n",
    "In Python we define a function with the syntax `def`"
   ],
   "id": "73972283b602050c"
  },
  {
   "metadata": {
    "collapsed": true,
    "ExecuteTime": {
     "end_time": "2025-04-28T19:07:59.419337Z",
     "start_time": "2025-04-28T19:07:59.413260Z"
    }
   },
   "cell_type": "code",
   "source": [
    "def my_function(): # this function doesn't take any parameter\n",
    "    pass # If there is no content inside a function yet, at least write pass to avoid error messages\n",
    "\n",
    "def sum(a, b): # you can take multiple parameters\n",
    "    return a + b # return a value\n",
    "\n",
    "def list_items(food):\n",
    "    for item in food:\n",
    "        print(item)\n",
    "\n",
    "print(sum(3,5))\n",
    "print(sum(3+21,10+7)) # you can pass evaluation as an argument\n",
    "list_items([\"juice\",\"yogurt\",\"bread\"])  # you can pass a list as an argument\n",
    "another_list = [\"desk\",\"chair\",\"bed\"]\n",
    "list_items(another_list) # or a variable"
   ],
   "id": "initial_id",
   "outputs": [
    {
     "name": "stdout",
     "output_type": "stream",
     "text": [
      "8\n",
      "41\n",
      "juice\n",
      "yogurt\n",
      "bread\n",
      "desk\n",
      "chair\n",
      "bed\n"
     ]
    }
   ],
   "execution_count": 24
  },
  {
   "metadata": {},
   "cell_type": "markdown",
   "source": "If a function requires two arguments and you are only giving it one, you will get the following error message.",
   "id": "7f407c4b2790b24b"
  },
  {
   "metadata": {
    "ExecuteTime": {
     "end_time": "2025-04-28T18:11:42.550122Z",
     "start_time": "2025-04-28T18:11:42.535879Z"
    }
   },
   "cell_type": "code",
   "source": [
    "def function_with_two_arguments(arg1, arg2):\n",
    "    print(\"I need two arguments\")\n",
    "    print(arg1, arg2)\n",
    "\n",
    "function_with_two_arguments(1)\n"
   ],
   "id": "8382f3db7017d8c8",
   "outputs": [
    {
     "ename": "TypeError",
     "evalue": "example_function() missing 1 required positional argument: 'arg2'",
     "output_type": "error",
     "traceback": [
      "\u001B[0;31m---------------------------------------------------------------------------\u001B[0m",
      "\u001B[0;31mTypeError\u001B[0m                                 Traceback (most recent call last)",
      "Cell \u001B[0;32mIn[22], line 5\u001B[0m\n\u001B[1;32m      2\u001B[0m     \u001B[38;5;28mprint\u001B[39m(\u001B[38;5;124m\"\u001B[39m\u001B[38;5;124mI need two arguments\u001B[39m\u001B[38;5;124m\"\u001B[39m)\n\u001B[1;32m      3\u001B[0m     \u001B[38;5;28mprint\u001B[39m(arg1, arg2)\n\u001B[0;32m----> 5\u001B[0m \u001B[43mexample_function\u001B[49m\u001B[43m(\u001B[49m\u001B[38;5;241;43m1\u001B[39;49m\u001B[43m)\u001B[49m\n",
      "\u001B[0;31mTypeError\u001B[0m: example_function() missing 1 required positional argument: 'arg2'"
     ]
    }
   ],
   "execution_count": 22
  },
  {
   "metadata": {},
   "cell_type": "markdown",
   "source": "Local variable inside a function is not accessible from outside",
   "id": "a65c8b4ebfc17dfb"
  },
  {
   "metadata": {
    "ExecuteTime": {
     "end_time": "2025-04-28T19:19:24.071666Z",
     "start_time": "2025-04-28T19:19:24.054756Z"
    }
   },
   "cell_type": "code",
   "source": [
    "def my_function():\n",
    "    my_variable = 10\n",
    "    print(\"my_variable\", my_variable)\n",
    "\n",
    "print(my_variable)"
   ],
   "id": "2e96a81b4568acc8",
   "outputs": [
    {
     "ename": "NameError",
     "evalue": "name 'my_variable' is not defined",
     "output_type": "error",
     "traceback": [
      "\u001B[0;31m---------------------------------------------------------------------------\u001B[0m",
      "\u001B[0;31mNameError\u001B[0m                                 Traceback (most recent call last)",
      "Cell \u001B[0;32mIn[25], line 4\u001B[0m\n\u001B[1;32m      1\u001B[0m \u001B[38;5;28;01mdef\u001B[39;00m \u001B[38;5;21mmy_function\u001B[39m():\n\u001B[1;32m      2\u001B[0m     my_variable \u001B[38;5;241m=\u001B[39m \u001B[38;5;241m10\u001B[39m\n\u001B[0;32m----> 4\u001B[0m \u001B[38;5;28mprint\u001B[39m(\u001B[43mmy_variable\u001B[49m)\n",
      "\u001B[0;31mNameError\u001B[0m: name 'my_variable' is not defined"
     ]
    }
   ],
   "execution_count": 25
  },
  {
   "metadata": {},
   "cell_type": "markdown",
   "source": "Compare the code above with the following code:",
   "id": "1142f6882a85e8a0"
  },
  {
   "metadata": {
    "ExecuteTime": {
     "end_time": "2025-04-29T05:50:03.789073Z",
     "start_time": "2025-04-29T05:50:03.765974Z"
    }
   },
   "cell_type": "code",
   "source": [
    "def my_function():\n",
    "    print(\"my_variable\", my_variable)\n",
    "    my_variable = 10\n",
    "\n",
    "\n",
    "my_variable = 3\n",
    "my_function()\n",
    "print(my_variable)"
   ],
   "id": "608da1c3766e531e",
   "outputs": [
    {
     "ename": "UnboundLocalError",
     "evalue": "local variable 'my_variable' referenced before assignment",
     "output_type": "error",
     "traceback": [
      "\u001B[0;31m---------------------------------------------------------------------------\u001B[0m",
      "\u001B[0;31mUnboundLocalError\u001B[0m                         Traceback (most recent call last)",
      "Cell \u001B[0;32mIn[136], line 7\u001B[0m\n\u001B[1;32m      3\u001B[0m     my_variable \u001B[38;5;241m=\u001B[39m \u001B[38;5;241m10\u001B[39m\n\u001B[1;32m      6\u001B[0m my_variable \u001B[38;5;241m=\u001B[39m \u001B[38;5;241m3\u001B[39m\n\u001B[0;32m----> 7\u001B[0m \u001B[43mmy_function\u001B[49m\u001B[43m(\u001B[49m\u001B[43m)\u001B[49m\n\u001B[1;32m      8\u001B[0m \u001B[38;5;28mprint\u001B[39m(my_variable)\n",
      "Cell \u001B[0;32mIn[136], line 2\u001B[0m, in \u001B[0;36mmy_function\u001B[0;34m()\u001B[0m\n\u001B[1;32m      1\u001B[0m \u001B[38;5;28;01mdef\u001B[39;00m \u001B[38;5;21mmy_function\u001B[39m():\n\u001B[0;32m----> 2\u001B[0m     \u001B[38;5;28mprint\u001B[39m(\u001B[38;5;124m\"\u001B[39m\u001B[38;5;124mmy_variable\u001B[39m\u001B[38;5;124m\"\u001B[39m, \u001B[43mmy_variable\u001B[49m)\n\u001B[1;32m      3\u001B[0m     my_variable \u001B[38;5;241m=\u001B[39m \u001B[38;5;241m10\u001B[39m\n",
      "\u001B[0;31mUnboundLocalError\u001B[0m: local variable 'my_variable' referenced before assignment"
     ]
    }
   ],
   "execution_count": 136
  },
  {
   "metadata": {},
   "cell_type": "markdown",
   "source": [
    "What happens here is the function assigns a value to the `my_varialbe` , so Python interprets `my_varialbe` to be a local variable instead of the global variable of the same name. The function attempts to access the variable before it is defined, so there is an error.\n",
    "\n",
    "If we fix this by changing the order of printing inside the function,the global variable won't be changed directly from within another function. See:"
   ],
   "id": "d34035db85cdcbac"
  },
  {
   "metadata": {
    "ExecuteTime": {
     "end_time": "2025-04-28T19:21:34.885603Z",
     "start_time": "2025-04-28T19:21:34.882757Z"
    }
   },
   "cell_type": "code",
   "source": [
    "my_variable = 5\n",
    "\n",
    "def my_function():\n",
    "    my_variable = 10\n",
    "    print(\"inside the function:\", my_variable)\n",
    "\n",
    "my_function()\n",
    "print(\"outside the function:\", my_variable) # the local variable assignment has zero effect on the global variable"
   ],
   "id": "36a9531dd6e82f60",
   "outputs": [
    {
     "name": "stdout",
     "output_type": "stream",
     "text": [
      "inside the function: 10\n",
      "outside the function: 5\n"
     ]
    }
   ],
   "execution_count": 27
  },
  {
   "metadata": {},
   "cell_type": "markdown",
   "source": "If you really wish to change the global variable inside a function, you need to add the Python keyword `global`",
   "id": "54205988d764a84e"
  },
  {
   "metadata": {
    "ExecuteTime": {
     "end_time": "2025-04-29T06:06:58.914091Z",
     "start_time": "2025-04-29T06:06:58.903814Z"
    }
   },
   "cell_type": "code",
   "source": [
    "def testing():\n",
    "    global x\n",
    "    x = 3 # here python won't interpret it as a local variable\n",
    "    print(x)\n",
    "\n",
    "x = 5\n",
    "testing()\n",
    "print(x)"
   ],
   "id": "45b569f4f8d09c03",
   "outputs": [
    {
     "name": "stdout",
     "output_type": "stream",
     "text": [
      "3\n",
      "3\n"
     ]
    }
   ],
   "execution_count": 137
  },
  {
   "metadata": {},
   "cell_type": "markdown",
   "source": [
    "#### Task 1\n",
    "\n",
    "Please write a function named `string_rect(string, w, h)`. It shall take three arguments:\n",
    "- the first argument being the string unit it uses to make the rectangle shape\n",
    "- the second one defines the width of the rectangle\n",
    "- the third one defines the height of the rectangle\n",
    "\n",
    "*Challenge: How to print a triangle instead of a rectangle?"
   ],
   "id": "b99ea4634d7ce3a3"
  },
  {
   "metadata": {},
   "cell_type": "code",
   "outputs": [],
   "execution_count": null,
   "source": "",
   "id": "a35878324072c635"
  },
  {
   "metadata": {},
   "cell_type": "markdown",
   "source": [
    "---\n",
    "\n",
    "In Python, a function can take arguments either based on its position or based on its name.\n",
    "\n",
    "\n"
   ],
   "id": "b17b248069042ecc"
  },
  {
   "metadata": {
    "ExecuteTime": {
     "end_time": "2025-04-28T18:09:21.290964Z",
     "start_time": "2025-04-28T18:09:21.286971Z"
    }
   },
   "cell_type": "code",
   "source": [
    "def print_arguments(arg1, arg2):\n",
    "    print(arg1, arg2)\n",
    "\n",
    "# position matters\n",
    "print_arguments(1, 2)\n",
    "print_arguments(2, 1)"
   ],
   "id": "5ea672aeb67c75a7",
   "outputs": [
    {
     "name": "stdout",
     "output_type": "stream",
     "text": [
      "1 2\n",
      "2 1\n"
     ]
    }
   ],
   "execution_count": 20
  },
  {
   "metadata": {},
   "cell_type": "markdown",
   "source": [
    "#### Arbitrary Arguments, *args\n",
    "\n",
    "If you do not know how many arguments that will be passed into your function, add a * before the parameter name in the function definition.\n",
    "\n",
    "This way the function will receive a *tuple* of arguments."
   ],
   "id": "497a202c37d2bb34"
  },
  {
   "metadata": {
    "ExecuteTime": {
     "end_time": "2025-04-28T17:40:37.364133Z",
     "start_time": "2025-04-28T17:40:37.361782Z"
    }
   },
   "cell_type": "code",
   "source": [
    "def show_classes(*classes):\n",
    "    print(\"The first class is:\", classes[0])\n",
    "\n",
    "show_classes(\"Agents and Interface\")\n",
    "show_classes(\"Technical Basics I\", \"Technical Basics II\")"
   ],
   "id": "6db46f1524e34d9",
   "outputs": [
    {
     "name": "stdout",
     "output_type": "stream",
     "text": [
      "The first class is: Agents and Interface\n",
      "The first class is: Technical Basics I\n"
     ]
    }
   ],
   "execution_count": 8
  },
  {
   "metadata": {},
   "cell_type": "markdown",
   "source": [
    "#### Keyword Arguments\n",
    "\n",
    "You can also send arguments with the `key = value` syntax. This way the order of the arguments does not matter, but the name."
   ],
   "id": "124fadf00d681fa8"
  },
  {
   "metadata": {
    "ExecuteTime": {
     "end_time": "2025-04-28T17:45:08.485456Z",
     "start_time": "2025-04-28T17:45:08.479909Z"
    }
   },
   "cell_type": "code",
   "source": [
    "def my_data(name, birthday, email):\n",
    "    print(\"Name:\", name, \"Birthday:\", birthday, \"Email:\", email)\n",
    "\n",
    "my_data( name = \"Max Mustermann\", email=\"max.mustermann@leuphana.de\", birthday = \"01.01.2000\")"
   ],
   "id": "164b8770d5d85c08",
   "outputs": [
    {
     "name": "stdout",
     "output_type": "stream",
     "text": [
      "Name: Max Mustermann Birthday: 01.01.2000 Email: max.mustermann@leuphana.de\n"
     ]
    }
   ],
   "execution_count": 9
  },
  {
   "metadata": {},
   "cell_type": "markdown",
   "source": [
    "#### Arbitrary Keyword Arguments, **kwargs\n",
    "\n",
    "If you do not know how many keyword arguments that will be passed into your function, add two asterisk: ** before the parameter name in the function definition.\n",
    "\n",
    "This way the function will receive a *dictionary* of arguments"
   ],
   "id": "50308f96a8eb7021"
  },
  {
   "metadata": {
    "ExecuteTime": {
     "end_time": "2025-04-28T17:48:58.306264Z",
     "start_time": "2025-04-28T17:48:58.299669Z"
    }
   },
   "cell_type": "code",
   "source": [
    "def my_data(**data):\n",
    "    print(\"Name:\", data[\"name\"])\n",
    "\n",
    "my_data( name = \"Max Mustermann\", email=\"max.mustermann@leuphana.de\", birthday = \"01.01.2000\")"
   ],
   "id": "ce11f5c02c2a393e",
   "outputs": [
    {
     "name": "stdout",
     "output_type": "stream",
     "text": [
      "Name: Max Mustermann\n"
     ]
    }
   ],
   "execution_count": 10
  },
  {
   "metadata": {},
   "cell_type": "markdown",
   "source": [
    "#### Default Parameter Value\n",
    "\n",
    "You can also add a default parameter value to your function. If the function is called without argument, it uses the default value."
   ],
   "id": "6323b4f253c817eb"
  },
  {
   "metadata": {
    "ExecuteTime": {
     "end_time": "2025-04-28T17:52:06.081051Z",
     "start_time": "2025-04-28T17:52:06.075821Z"
    }
   },
   "cell_type": "code",
   "source": [
    "def my_status(status = \"normal\"):\n",
    "    print(\"Status:\", status)\n",
    "\n",
    "my_status(\"good\")\n",
    "my_status(\"bad\")\n",
    "my_status()"
   ],
   "id": "cbf7ebf3bc717845",
   "outputs": [
    {
     "name": "stdout",
     "output_type": "stream",
     "text": [
      "Status: good\n",
      "Status: bad\n",
      "Status: normal\n"
     ]
    }
   ],
   "execution_count": 11
  },
  {
   "metadata": {},
   "cell_type": "markdown",
   "source": [
    "#### Type hints\n",
    "\n",
    "Sometimes our functions are very sensitive to the type of the arguments provided. Take a look at the following function:"
   ],
   "id": "257879b64db009a0"
  },
  {
   "metadata": {},
   "cell_type": "code",
   "outputs": [],
   "execution_count": null,
   "source": [
    "def print_many_times(message, times):\n",
    "    while times > 0:\n",
    "        print(message)\n",
    "        times -= 1"
   ],
   "id": "62f496d893bffed8"
  },
  {
   "metadata": {},
   "cell_type": "markdown",
   "source": "It works as expected if we provide the values that it assumes:",
   "id": "876377786a66ae0c"
  },
  {
   "metadata": {
    "ExecuteTime": {
     "end_time": "2025-04-28T15:19:19.233979Z",
     "start_time": "2025-04-28T15:19:19.230274Z"
    }
   },
   "cell_type": "code",
   "source": "print_many_times(\"Hello World!\", 3)",
   "id": "72c363a9a59fe439",
   "outputs": [
    {
     "name": "stdout",
     "output_type": "stream",
     "text": [
      "Hello World!\n",
      "Hello World!\n",
      "Hello World!\n"
     ]
    }
   ],
   "execution_count": 3
  },
  {
   "metadata": {},
   "cell_type": "markdown",
   "source": "However, in some cases, it won't work if we give an argument of the wrong type.",
   "id": "a986cb5ec454a5e2"
  },
  {
   "metadata": {
    "ExecuteTime": {
     "end_time": "2025-04-28T15:20:19.518937Z",
     "start_time": "2025-04-28T15:20:19.500483Z"
    }
   },
   "cell_type": "code",
   "source": "print_many_times(\"Hello World\", \"4\")",
   "id": "a2296fab7ab53787",
   "outputs": [
    {
     "ename": "TypeError",
     "evalue": "'>' not supported between instances of 'str' and 'int'",
     "output_type": "error",
     "traceback": [
      "\u001B[0;31m---------------------------------------------------------------------------\u001B[0m",
      "\u001B[0;31mTypeError\u001B[0m                                 Traceback (most recent call last)",
      "Cell \u001B[0;32mIn[4], line 1\u001B[0m\n\u001B[0;32m----> 1\u001B[0m \u001B[43mprint_many_times\u001B[49m\u001B[43m(\u001B[49m\u001B[38;5;124;43m\"\u001B[39;49m\u001B[38;5;124;43mHello World\u001B[39;49m\u001B[38;5;124;43m\"\u001B[39;49m\u001B[43m,\u001B[49m\u001B[43m \u001B[49m\u001B[38;5;124;43m\"\u001B[39;49m\u001B[38;5;124;43m4\u001B[39;49m\u001B[38;5;124;43m\"\u001B[39;49m\u001B[43m)\u001B[49m\n",
      "Cell \u001B[0;32mIn[2], line 2\u001B[0m, in \u001B[0;36mprint_many_times\u001B[0;34m(message, times)\u001B[0m\n\u001B[1;32m      1\u001B[0m \u001B[38;5;28;01mdef\u001B[39;00m \u001B[38;5;21mprint_many_times\u001B[39m(message : \u001B[38;5;28mstr\u001B[39m, times : \u001B[38;5;28mint\u001B[39m):\n\u001B[0;32m----> 2\u001B[0m     \u001B[38;5;28;01mwhile\u001B[39;00m \u001B[43mtimes\u001B[49m\u001B[43m \u001B[49m\u001B[38;5;241;43m>\u001B[39;49m\u001B[43m \u001B[49m\u001B[38;5;241;43m0\u001B[39;49m:\n\u001B[1;32m      3\u001B[0m         \u001B[38;5;28mprint\u001B[39m(message)\n\u001B[1;32m      4\u001B[0m         times \u001B[38;5;241m-\u001B[39m\u001B[38;5;241m=\u001B[39m \u001B[38;5;241m1\u001B[39m\n",
      "\u001B[0;31mTypeError\u001B[0m: '>' not supported between instances of 'str' and 'int'"
     ]
    }
   ],
   "execution_count": 4
  },
  {
   "metadata": {},
   "cell_type": "markdown",
   "source": "To avoid issues like this you can always check the parameter types inside your function. And to make it clear for everyone who wants to use your function, you can add",
   "id": "9c64c65868ecbdf8"
  },
  {
   "metadata": {
    "ExecuteTime": {
     "end_time": "2025-04-28T15:20:25.827272Z",
     "start_time": "2025-04-28T15:20:25.824321Z"
    }
   },
   "cell_type": "code",
   "source": [
    "def print_many_times(message : str, times : int):\n",
    "    while times > 0:\n",
    "        print(message)\n",
    "        times -= 1\n"
   ],
   "id": "7dab3a6dfd1bc52e",
   "outputs": [],
   "execution_count": 5
  },
  {
   "metadata": {},
   "cell_type": "markdown",
   "source": "A function can return any data type, or even multiple variables\n",
   "id": "f8a7fbdcc48bca1f"
  },
  {
   "metadata": {
    "ExecuteTime": {
     "end_time": "2025-04-28T19:49:45.312084Z",
     "start_time": "2025-04-28T19:49:45.307215Z"
    }
   },
   "cell_type": "code",
   "source": [
    "def get_my_message():\n",
    "    secret_message = \"You will find the treasure at...\"\n",
    "    return secret_message\n",
    "\n",
    "text = get_my_message() # you can pass the returned value to a variable\n",
    "print(text)\n",
    "\n",
    "def is_expired(value):\n",
    "    # example of returning boolean\n",
    "    ref = 3\n",
    "    if value > 3:\n",
    "        return True\n",
    "    else:\n",
    "        return False\n",
    "\n",
    "print(is_expired(7)) # or print it directly\n",
    "\n",
    "def get_my_args():\n",
    "    x = 10\n",
    "    y = 11\n",
    "    return x, y\n",
    "\n",
    "result = get_my_args()\n",
    "a, b = get_my_args()\n",
    "print(result)\n",
    "print(a, b)\n"
   ],
   "id": "7124d20723257f05",
   "outputs": [
    {
     "name": "stdout",
     "output_type": "stream",
     "text": [
      "3\n",
      "True\n",
      "(10, 11)\n",
      "10 11\n"
     ]
    }
   ],
   "execution_count": 32
  },
  {
   "metadata": {},
   "cell_type": "markdown",
   "source": [
    "#### Task 2\n",
    "Below are some sample outputs from a function:"
   ],
   "id": "29a8f1644137ac38"
  },
  {
   "metadata": {},
   "cell_type": "code",
   "outputs": [],
   "execution_count": null,
   "source": [
    "print(custom_greeting(name=\"Alice\", greeting=\"Hello\"))  # Output: \"Hello, Alice!\"\n",
    "print(custom_greeting(name=\"Bob\", greeting=\"Welcome\"))  # Output: \"Welcome, Bob!\"\n",
    "print(custom_greeting(greeting=\"Good evening\", name=\"Charlie\"))  # Output: \"Good evening, Charlie!\""
   ],
   "id": "7a650a71ef37f1c8"
  },
  {
   "metadata": {},
   "cell_type": "markdown",
   "source": [
    "Write a Python function called custom_greeting that:\n",
    "- Accepts two keyword arguments: name and greeting.\n",
    "- Returns a single string that combines the greeting and the name in the same format as shown.\n",
    "- Does not directly print inside the function (only return).\n",
    "\n",
    "Test your function, does it output the exact same results?"
   ],
   "id": "49c828cb22a4f01"
  },
  {
   "metadata": {},
   "cell_type": "code",
   "outputs": [],
   "execution_count": null,
   "source": "",
   "id": "74717a9ed0da435a"
  },
  {
   "metadata": {},
   "cell_type": "markdown",
   "source": [
    "#### Task 3: Passing data from one function to another\n",
    "\n",
    "Finish the following code and observer how data has been passed around to avoid using global variables."
   ],
   "id": "5a749059cb711352"
  },
  {
   "metadata": {},
   "cell_type": "code",
   "outputs": [],
   "execution_count": null,
   "source": [
    "def input_from_user(how_many:int):\n",
    "    # this function gets input from the user, it takes one integer parameter, and it defines how many inputs the program asks. It shall return the input numbers as a list of integer\n",
    "    pass\n",
    "\n",
    "def print_result(numbers:list):\n",
    "    # this function displays all the inputs\n",
    "    pass\n",
    "\n",
    "def analyze(numbers:list):\n",
    "    # this function takes a list of numbers and returns analysis result as a string\n",
    "    # It tells who many numbers are there in total, the mean, the smallest number, the largest number\n",
    "\n",
    "def main():\n",
    "    inputs = input_from_user(5)\n",
    "    print_result(inputs)\n",
    "    analysis_result = analyze(inputs)\n",
    "    print(analysis_result)\n",
    "\n",
    "main()"
   ],
   "id": "842d695195701466"
  },
  {
   "metadata": {},
   "cell_type": "markdown",
   "source": [
    "---\n",
    "### Recursion\n",
    "\n",
    "We can use recursion wisely to achieve similar results as a loop\n"
   ],
   "id": "3bc71f7ebb1c74f5"
  },
  {
   "metadata": {
    "ExecuteTime": {
     "end_time": "2025-04-28T19:55:47.078203Z",
     "start_time": "2025-04-28T19:55:47.075427Z"
    }
   },
   "cell_type": "code",
   "outputs": [
    {
     "name": "stdout",
     "output_type": "stream",
     "text": [
      "5\n",
      "4\n",
      "3\n",
      "2\n",
      "1\n"
     ]
    }
   ],
   "execution_count": 38,
   "source": [
    "def count_down(n):\n",
    "    if n == 0: # a recursive function always needs an end point to prevent from forever looping\n",
    "        return\n",
    "    print(n)\n",
    "    count_down(n - 1)\n",
    "    # try to move print(n) to here and see what happens?\n",
    "\n",
    "\n",
    "# Example usage:\n",
    "count_down(5)"
   ],
   "id": "2d72d0128c2c20d2"
  },
  {
   "metadata": {},
   "cell_type": "markdown",
   "source": "It can also do unique things such as branching:",
   "id": "a6ff11aaf2ee616a"
  },
  {
   "metadata": {
    "ExecuteTime": {
     "end_time": "2025-04-28T20:12:07.666246Z",
     "start_time": "2025-04-28T20:12:07.663114Z"
    }
   },
   "cell_type": "code",
   "source": [
    "def branch_print(n, depth=0):\n",
    "    if n == 0:\n",
    "        return\n",
    "    print('  ' * depth + f\"Node {n}\")\n",
    "    branch_print(n - 1, depth + 1)  # First branch (deeper)\n",
    "    branch_print(n - 1, depth + 1)  # Second branch (deeper)\n",
    "\n",
    "# Example usage:\n",
    "branch_print(3)"
   ],
   "id": "c4d17407d1194d9e",
   "outputs": [
    {
     "name": "stdout",
     "output_type": "stream",
     "text": [
      "Node 3\n",
      "  Node 2\n",
      "    Node 1\n",
      "    Node 1\n",
      "  Node 2\n",
      "    Node 1\n",
      "    Node 1\n"
     ]
    }
   ],
   "execution_count": 48
  },
  {
   "metadata": {},
   "cell_type": "markdown",
   "source": [
    "#### Task 4\n",
    "\n",
    "Write a recursive function factorial(n) to calculate the factorial of a number."
   ],
   "id": "3b36c11a4fa55da2"
  },
  {
   "metadata": {},
   "cell_type": "code",
   "outputs": [],
   "execution_count": null,
   "source": "factorial(4)  # returns 24 (4 × 3 × 2 × 1)",
   "id": "3f7bdcc081dbacd0"
  },
  {
   "metadata": {},
   "cell_type": "markdown",
   "source": "Hints: Base case: factorial(0) = 1.",
   "id": "86ab61dad65b68d2"
  },
  {
   "metadata": {
    "ExecuteTime": {
     "end_time": "2025-04-28T20:14:32.912639Z",
     "start_time": "2025-04-28T20:14:32.908029Z"
    }
   },
   "cell_type": "code",
   "source": "",
   "id": "391b0a9a6c1d5649",
   "outputs": [
    {
     "data": {
      "text/plain": [
       "6"
      ]
     },
     "execution_count": 57,
     "metadata": {},
     "output_type": "execute_result"
    }
   ],
   "execution_count": 57
  },
  {
   "metadata": {},
   "cell_type": "markdown",
   "source": "",
   "id": "f1dfd84d3d1858f"
  }
 ],
 "metadata": {
  "kernelspec": {
   "display_name": "Python 3",
   "language": "python",
   "name": "python3"
  },
  "language_info": {
   "codemirror_mode": {
    "name": "ipython",
    "version": 2
   },
   "file_extension": ".py",
   "mimetype": "text/x-python",
   "name": "python",
   "nbconvert_exporter": "python",
   "pygments_lexer": "ipython2",
   "version": "2.7.6"
  }
 },
 "nbformat": 4,
 "nbformat_minor": 5
}
