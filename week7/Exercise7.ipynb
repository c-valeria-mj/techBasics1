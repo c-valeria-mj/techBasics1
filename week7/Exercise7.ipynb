{
 "cells": [
  {
   "cell_type": "markdown",
   "id": "ecfb02f0115564bc",
   "metadata": {},
   "source": [
    "## File Handling\n",
    "\n",
    "Reading and writing files are very common tasks that come in handy in programming. You can write a program to **read** data from files and also **write** computed results to files. This provides us with the basic infrastructure to process large amount of data in a few seconds.\n",
    "\n",
    "In this session we will deal *text files*. They are files that only consists of lines of text without formatting information. For example, word documents or pages files are not *text files*, the formatting information contained in them can make handling them in a program more complicated.\n",
    "\n",
    "\n",
    "### Reading Files\n",
    "\n",
    "To work with files in Python, you need to open the file first. The built-in `open()` function does what the name implies - it opens a file and returns it as a file object. So to use the `open()` function, you would need to save the returned value to a variable, so that you can access the opened file later.\n",
    "\n",
    "After the file is opened, you can use the `.read()` method to read content from it.\n",
    "\n",
    "Remember to always close the file with `.close()` method after you are done. Closing files on time helps to protect you from potential data loss. Also, an opened file prevents other processes from accessing the same file until your current program terminates.\n",
    "\n"
   ]
  },
  {
   "cell_type": "code",
   "execution_count": 13,
   "id": "57a54c7016b956f1",
   "metadata": {
    "ExecuteTime": {
     "end_time": "2025-05-18T17:08:43.961351Z",
     "start_time": "2025-05-18T17:08:43.957557Z"
    }
   },
   "outputs": [
    {
     "name": "stdout",
     "output_type": "stream",
     "text": [
      "Hello there!\n",
      "This example file contains three lines of text.\n",
      "This is the last line.\n"
     ]
    }
   ],
   "source": [
    "my_file = open (\"example.txt\") # step 1: open\n",
    "content = my_file.read() # step 2: read\n",
    "print(content)\n",
    "my_file.close() # step 3: close"
   ]
  },
  {
   "cell_type": "markdown",
   "id": "89f4c57fd25d4c13",
   "metadata": {},
   "source": [
    "\n",
    "Because we tend to be forgetful, it is recommended to open a file in combination with the `with` statement.\n",
    "\n",
    "In this way, the header line opens the file, and you can access the file only in the following block. After the block the file is automatically closed and you get to write less code. The following code does the same with the code above, but using `with` statement:\n",
    "\n"
   ]
  },
  {
   "cell_type": "code",
   "execution_count": 1,
   "id": "initial_id",
   "metadata": {
    "ExecuteTime": {
     "end_time": "2025-05-15T20:23:47.118518Z",
     "start_time": "2025-05-15T20:23:47.107711Z"
    },
    "collapsed": true
   },
   "outputs": [
    {
     "name": "stdout",
     "output_type": "stream",
     "text": [
      "Hello there!\n",
      "This example file contains three lines of text.\n",
      "This is the last line.\n"
     ]
    }
   ],
   "source": [
    "with open(\"example.txt\") as new_file:\n",
    "    content = new_file.read()\n",
    "    print(content)"
   ]
  },
  {
   "cell_type": "markdown",
   "id": "bed6d2b46dd6448d",
   "metadata": {},
   "source": [
    "The method `read()` returns the contents of the file as a single string. This can be useful if we want to have access to the entire content of a file. But what is used more often is to go through the file line by line.\n",
    "\n",
    "The `readline()` method returns one line from the file. It automatically goes to the next line when you call it for the second time.\n",
    "\n",
    "\n",
    "\n"
   ]
  },
  {
   "cell_type": "code",
   "execution_count": 22,
   "id": "9dd20a62ded0e9ff",
   "metadata": {
    "ExecuteTime": {
     "end_time": "2025-05-18T17:19:58.826385Z",
     "start_time": "2025-05-18T17:19:58.823059Z"
    }
   },
   "outputs": [
    {
     "name": "stdout",
     "output_type": "stream",
     "text": [
      "Hello there!\n",
      "\n",
      "This example file contains three lines of text.\n",
      "\n"
     ]
    }
   ],
   "source": [
    "f = open(\"example.txt\")\n",
    "print(f.readline())\n",
    "print(f.readline())\n",
    "f.close()"
   ]
  },
  {
   "cell_type": "markdown",
   "id": "e1c80c059313a89",
   "metadata": {},
   "source": [
    "In this way, we could iterate over the file using a for loop and the `readline()` method"
   ]
  },
  {
   "cell_type": "code",
   "execution_count": 24,
   "id": "203c66383d715ad0",
   "metadata": {
    "ExecuteTime": {
     "end_time": "2025-05-18T17:24:04.645310Z",
     "start_time": "2025-05-18T17:24:04.641260Z"
    }
   },
   "outputs": [
    {
     "name": "stdout",
     "output_type": "stream",
     "text": [
      "Hello there!\n",
      "\n",
      "This example file contains three lines of text.\n",
      "\n",
      "This is the last line.\n"
     ]
    }
   ],
   "source": [
    "f = open(\"example.txt\")\n",
    "for i in range(3):\n",
    "    print(f.readline())\n",
    "f.close()"
   ]
  },
  {
   "cell_type": "markdown",
   "id": "3fb7881370a3ed8f",
   "metadata": {},
   "source": [
    "Another way to do the same thing is to use a `for` loop directly on the returned file object."
   ]
  },
  {
   "cell_type": "code",
   "execution_count": 15,
   "id": "bef53520efde80fd",
   "metadata": {
    "ExecuteTime": {
     "end_time": "2025-05-18T17:15:19.863643Z",
     "start_time": "2025-05-18T17:15:19.860538Z"
    }
   },
   "outputs": [
    {
     "name": "stdout",
     "output_type": "stream",
     "text": [
      "Hello there!\n",
      "This example file contains three lines of text.\n",
      "This is the last line.\n"
     ]
    }
   ],
   "source": [
    "with open(\"example.txt\") as new_file:\n",
    "    for line in new_file:\n",
    "        line = line.replace(\"\\n\", \"\")\n",
    "        print(line)"
   ]
  },
  {
   "cell_type": "markdown",
   "id": "4d9cfe0633081452",
   "metadata": {},
   "source": [
    "If the file is located in a different location, you will have to specify the file path, like this:\n"
   ]
  },
  {
   "cell_type": "code",
   "execution_count": 26,
   "id": "eef33977343caf1d",
   "metadata": {
    "ExecuteTime": {
     "end_time": "2025-05-19T08:56:58.228108Z",
     "start_time": "2025-05-19T08:56:58.223051Z"
    }
   },
   "outputs": [
    {
     "name": "stdout",
     "output_type": "stream",
     "text": [
      "this file exists outside of the week7 folder\n",
      "\n"
     ]
    }
   ],
   "source": [
    "f = open(\"../test.txt\") # either relative or absolute path\n",
    "print(f.read())"
   ]
  },
  {
   "cell_type": "markdown",
   "id": "f63adf50e08137b",
   "metadata": {},
   "source": [
    "#### Task1:\n",
    "Create a text file in command line somewhere in your system and access it by modifying the code above"
   ]
  },
  {
   "cell_type": "code",
   "execution_count": null,
   "id": "340ba41c59a54e37",
   "metadata": {},
   "outputs": [],
   "source": []
  },
  {
   "cell_type": "markdown",
   "id": "43eebba53837568",
   "metadata": {},
   "source": [
    "---\n",
    "### Writing Files\n",
    "\n",
    "The `open()` function has different modes. By default it is in read mode. That's why we can read a file without specifying the mode."
   ]
  },
  {
   "cell_type": "code",
   "execution_count": null,
   "id": "55aa324a1d91c0dc",
   "metadata": {},
   "outputs": [],
   "source": [
    "f1 = open(\"example.txt\")\n",
    "f2 = open(\"example.txt\", \"rt\") # this is basically the same as the code above, r stands for read while t stands for text mode.  Another mode is b, binary mode (e.g. images)\n",
    "f1.close()\n",
    "f2.close()"
   ]
  },
  {
   "cell_type": "markdown",
   "id": "5be97db39eaad9c1",
   "metadata": {},
   "source": [
    "To write to an existing file, we must add a parameter to the `open()` function:\n",
    "\n",
    "The `a` parameter will append the content to the end of the file."
   ]
  },
  {
   "cell_type": "code",
   "execution_count": 31,
   "id": "8d2d406e77893abb",
   "metadata": {
    "ExecuteTime": {
     "end_time": "2025-05-19T09:06:18.091102Z",
     "start_time": "2025-05-19T09:06:18.086358Z"
    }
   },
   "outputs": [
    {
     "name": "stdout",
     "output_type": "stream",
     "text": [
      "Hello there!\n",
      "This example file contains three lines of text.\n",
      "This is the last line.\n",
      "Now the file has more content!\n",
      "Now the file has more content!\n",
      "Now the file has more content!\n"
     ]
    }
   ],
   "source": [
    "# If you write this multiple times, the content gets longer\n",
    "with open(\"example.txt\", \"a\") as f:\n",
    "  f.write(\"\\nNow the file has more content!\")\n",
    "\n",
    "#open and read the file after the appending:\n",
    "with open(\"example.txt\") as f:\n",
    "  print(f.read())"
   ]
  },
  {
   "cell_type": "markdown",
   "id": "52ff851a70cd5a74",
   "metadata": {},
   "source": [
    "Or to overwrite the existing content to the file, use the `w` parameter:"
   ]
  },
  {
   "cell_type": "code",
   "execution_count": 41,
   "id": "a4898191c3f9730b",
   "metadata": {
    "ExecuteTime": {
     "end_time": "2025-05-19T10:12:21.076147Z",
     "start_time": "2025-05-19T10:12:21.071051Z"
    }
   },
   "outputs": [
    {
     "name": "stdout",
     "output_type": "stream",
     "text": [
      "This text will overwrite the current text in the file. It doesn't add line breaks automatically like print().\n",
      "So you need to add line breaks manually by using \\n\n"
     ]
    }
   ],
   "source": [
    "with open(\"example.txt\", \"w\") as f:\n",
    "  f.write(\"This text will overwrite the current text in the file. \")\n",
    "  f.write(\"It doesn't add line breaks automatically like print().\")\n",
    "  f.write(\"\\nSo you need to add line breaks manually by using \\\\n\")\n",
    "\n",
    "with open(\"example.txt\") as f:\n",
    "  print(f.read())"
   ]
  },
  {
   "cell_type": "markdown",
   "id": "51a5b798a6b6de65",
   "metadata": {},
   "source": [
    "To create a new file in Python, you can use the `open()` method with one of the following parameters:\n",
    "- `x`: Create - will create a file, returns an error if the file exists\n",
    "- `a`: Append - will create a file if the specified file does not exist\n",
    "- `w`: Write - will create a file if the specified file does not exist"
   ]
  },
  {
   "cell_type": "code",
   "execution_count": null,
   "id": "27d8f91a302f9fe8",
   "metadata": {
    "ExecuteTime": {
     "end_time": "2025-05-19T10:04:17.286403Z",
     "start_time": "2025-05-19T10:04:17.282706Z"
    }
   },
   "outputs": [
    {
     "name": "stdout",
     "output_type": "stream",
     "text": [
      "This will create a new file if the file doesn't exist yet. But also won't raise an error if it already exist.\n"
     ]
    }
   ],
   "source": [
    "with open(\"new_file.txt\", \"w\") as f:\n",
    "  f.write(\"This will create a new file if the file doesn't exist yet. But also won't raise an error if it already exists.\")\n",
    "\n",
    "with open(\"new_file.txt\") as f:\n",
    "    print(f.read())"
   ]
  },
  {
   "cell_type": "markdown",
   "id": "c42c6153e10202",
   "metadata": {},
   "source": [
    "### Clearing and Delete Files"
   ]
  },
  {
   "cell_type": "markdown",
   "id": "9a9269d759467358",
   "metadata": {},
   "source": [
    "Sometimes it is necessary to clear the contents of an existing file. You can achieve it by opening the file in write mode and closing the file immediately:"
   ]
  },
  {
   "cell_type": "code",
   "execution_count": 43,
   "id": "9de39485cdd562e2",
   "metadata": {
    "ExecuteTime": {
     "end_time": "2025-05-19T10:14:43.317165Z",
     "start_time": "2025-05-19T10:14:43.312502Z"
    }
   },
   "outputs": [],
   "source": [
    "open(\"example.txt\",\"w\").close()\n",
    "\n",
    "# Or another way to achieve the same thing\n",
    "with open(\"example.txt\",\"w\") as f:\n",
    "    pass"
   ]
  },
  {
   "cell_type": "markdown",
   "id": "2dd77f66172370e9",
   "metadata": {},
   "source": [
    "To delete a file, you must import the OS module, and run its `os.remove()` function:"
   ]
  },
  {
   "cell_type": "code",
   "execution_count": 37,
   "id": "4889523bc8e8784e",
   "metadata": {
    "ExecuteTime": {
     "end_time": "2025-05-19T10:06:40.265834Z",
     "start_time": "2025-05-19T10:06:40.262631Z"
    }
   },
   "outputs": [],
   "source": [
    "import os\n",
    "os.remove(\"new_file.txt\")"
   ]
  },
  {
   "cell_type": "markdown",
   "id": "d4ed767f3d70af5d",
   "metadata": {},
   "source": [
    "To avoid getting an error, you might want to check if the file exists before you try to delete it:"
   ]
  },
  {
   "cell_type": "code",
   "execution_count": 38,
   "id": "efe05b68b6a3ab7a",
   "metadata": {
    "ExecuteTime": {
     "end_time": "2025-05-19T10:07:11.135121Z",
     "start_time": "2025-05-19T10:07:11.131784Z"
    }
   },
   "outputs": [
    {
     "name": "stdout",
     "output_type": "stream",
     "text": [
      "The file does not exist\n"
     ]
    }
   ],
   "source": [
    "if os.path.exists(\"new_file.txt\"):\n",
    "  os.remove(\"new_file.txt\")\n",
    "else:\n",
    "  print(\"The file does not exist\")"
   ]
  },
  {
   "cell_type": "markdown",
   "id": "7c1a41231bd26689",
   "metadata": {},
   "source": [
    "#### Task 2:\n",
    "Write a program that asks two inputs:\n",
    " 1. The name of the user (string)\n",
    " 2. How many weeks have you learned python (int)\n",
    "\n",
    "It shall create a `message.txt` file using the name of the user and generates the GitHub repo structure based on the number of weeks.\n",
    "The contents of your text file should be something like this:\n",
    "```\n",
    "Hi user_name, we hope you enjoy learning Python here!\n",
    "Your github repo should look like this:\n",
    "    assignments/\n",
    "        week1/\n",
    "        week2/\n",
    "        ...\n",
    "        week7/\n",
    " ```\n"
   ]
  },
  {
   "cell_type": "markdown",
   "id": "c98f02ce98a88a86",
   "metadata": {},
   "source": [
    "---\n",
    "### Dealing with CSVs\n"
   ]
  },
  {
   "cell_type": "markdown",
   "id": "59dc25ac7587bc73",
   "metadata": {},
   "source": [
    "A CSV file, short for comma-separated Values, is a text file which contains data separated by a predetermined character. The most common characters used for this purpose are the comma `,` and the semicolon `;`, but any character is, in principle, possible.\n",
    "\n",
    "CSV files are commonly used to store records of different kinds. Many database and spreadsheet programs, such as Excel, can import and export data in CSV format, which makes data exchange between different systems easy.\n",
    "\n",
    "We already learnt we can go through the lines in a file with a for loop, but how can we separate the different fields on a single line?"
   ]
  },
  {
   "cell_type": "code",
   "execution_count": 114,
   "id": "245f03fd260e08e1",
   "metadata": {
    "ExecuteTime": {
     "end_time": "2025-05-19T13:29:02.544826Z",
     "start_time": "2025-05-19T13:29:02.536564Z"
    }
   },
   "outputs": [
    {
     "name": "stdout",
     "output_type": "stream",
     "text": [
      "Fruit,Price per kg,Origin\n",
      "Apple,2.99,Germany\n",
      "Banana,1.39,Ecuador\n",
      "Orange,2.99,Spain\n",
      "Grapes,1.99,Italy\n",
      "Strawberry,3.99,Germany\n",
      "Kiwi,2.50,New Zealand\n",
      "Pineapple,2.80,Costa Rica\n",
      "Blueberry,5.00,Spain\n",
      "Pear,2.20,Netherlands\n",
      "Watermelon,1.39,Spain\n"
     ]
    }
   ],
   "source": [
    "with open(\"fruits.csv\") as f:\n",
    "    for line in f:\n",
    "        line = line.replace(\"\\n\", \"\")\n",
    "        print(line)\n",
    "        # how to access each field?"
   ]
  },
  {
   "cell_type": "markdown",
   "id": "ba7c6913a52314c",
   "metadata": {},
   "source": [
    "#### Task 3: From CSV to Dictionary\n",
    "\n",
    "The file `fruits.csv` contains names of fruits, their prices and origins.\n",
    "\n",
    "Please write a function named `read_fruits` which reads the file and returns a dictionary based on the contents. In the dictionary, the name of the fruit should be the key, and the value should be its price. Prices should be of type float."
   ]
  },
  {
   "cell_type": "code",
   "execution_count": 113,
   "id": "ecc8673a818f6ef8",
   "metadata": {
    "ExecuteTime": {
     "end_time": "2025-05-19T13:21:18.670204Z",
     "start_time": "2025-05-19T13:21:18.657967Z"
    }
   },
   "outputs": [
    {
     "data": {
      "text/plain": [
       "{}"
      ]
     },
     "execution_count": 113,
     "metadata": {},
     "output_type": "execute_result"
    }
   ],
   "source": [
    "def read_fruits():\n",
    "    dict = {}\n",
    "    return dict\n",
    "\n",
    "read_fruits()"
   ]
  },
  {
   "cell_type": "markdown",
   "id": "117bc08c571ccf13",
   "metadata": {},
   "source": [
    "\n",
    "There is also a module dedicated to CSV so that we don't need to manually split each row."
   ]
  },
  {
   "cell_type": "code",
   "execution_count": 77,
   "id": "f441b448a4287b86",
   "metadata": {
    "ExecuteTime": {
     "end_time": "2025-05-19T13:02:40.396478Z",
     "start_time": "2025-05-19T13:02:40.393222Z"
    }
   },
   "outputs": [
    {
     "name": "stdout",
     "output_type": "stream",
     "text": [
      "Field names are: ['Fruit', 'Price per kg', 'Origin']\n",
      "['Apple', '2.99', 'Germany']\n",
      "['Banana', '1.39', 'Ecuador']\n",
      "['Orange', '2.99', 'Spain']\n",
      "['Grapes', '1.99', 'Italy']\n",
      "['Strawberry', '3.99', 'Germany']\n",
      "['Kiwi', '2.50', 'New Zealand']\n",
      "['Pineapple', '2.80', 'Costa Rica']\n",
      "['Blueberry', '5.00', 'Spain']\n",
      "['Pear', '2.20', 'Netherlands']\n",
      "['Watermelon', '1.39', 'Spain']\n",
      "Total no. of rows: 11\n"
     ]
    }
   ],
   "source": [
    "import csv\n",
    "\n",
    "# initializing the rows list\n",
    "rows = []\n",
    "\n",
    "# reading csv file\n",
    "with open(\"fruits.csv\", 'r') as csvfile:\n",
    "    # creating a csv reader object\n",
    "    csvreader = csv.reader(csvfile)\n",
    "\n",
    "    # extracting field names through first row, notice that it removes the first row at the same time from csvreader\n",
    "    fields = next(csvreader)\n",
    "\n",
    "    # printing the field names\n",
    "    print('Field names are:', fields)\n",
    "\n",
    "    # extracting each data row one by one, notice that the items are already splitted for you\n",
    "    for row in csvreader:\n",
    "        rows.append(row)\n",
    "        print(row)\n",
    "\n",
    "    # get total number of rows\n",
    "    print(\"Total no. of rows:\", csvreader.line_num)"
   ]
  },
  {
   "cell_type": "markdown",
   "id": "e9e1cb01fde8c7c8",
   "metadata": {},
   "source": [
    "We can print the rows in some nicely formatted ways. There are many ways to do it. Here we are showing one way of formatting using f string.\n",
    "\n",
    "In this example, note that each replacement field `{}` contains a string that starts with a colon `:`. That’s a format specifier. The `.10s` part tells Python that you want to format the value as a string (s) with the length of 10."
   ]
  },
  {
   "cell_type": "code",
   "execution_count": 80,
   "id": "ce452fca3210ab3c",
   "metadata": {
    "ExecuteTime": {
     "end_time": "2025-05-19T13:02:52.781726Z",
     "start_time": "2025-05-19T13:02:52.778352Z"
    }
   },
   "outputs": [
    {
     "name": "stdout",
     "output_type": "stream",
     "text": [
      "\n",
      "First 3 rows are:\n",
      "\n",
      "Apple      2.99       Germany    \n",
      "\n",
      "Banana     1.39       Ecuador    \n",
      "\n",
      "Orange     2.99       Spain      \n",
      "\n"
     ]
    }
   ],
   "source": [
    "# printing first 3 rows\n",
    "print('\\nFirst 3 rows are:\\n')\n",
    "for row in rows[:3]:\n",
    "    # parsing each column of a row\n",
    "    for col in row:\n",
    "        print(f\"{col:10s}\", end=\" \"), # start specify formatting with a colon :\n",
    "    print('\\n')"
   ]
  },
  {
   "cell_type": "markdown",
   "id": "b8822bff988c3179",
   "metadata": {},
   "source": [
    "`DictReader` create an object that operates like a regular reader but maps the information in each row to a dict whose keys are given by the optional `fieldnames` parameter."
   ]
  },
  {
   "cell_type": "code",
   "execution_count": 83,
   "id": "daee3d4c5085ad5d",
   "metadata": {
    "ExecuteTime": {
     "end_time": "2025-05-19T13:11:29.612514Z",
     "start_time": "2025-05-19T13:11:29.604218Z"
    }
   },
   "outputs": [
    {
     "name": "stdout",
     "output_type": "stream",
     "text": [
      "{'Fruit': 'Apple', 'Price per kg': '2.99', 'Origin': 'Germany'}\n",
      "{'Fruit': 'Banana', 'Price per kg': '1.39', 'Origin': 'Ecuador'}\n",
      "{'Fruit': 'Orange', 'Price per kg': '2.99', 'Origin': 'Spain'}\n",
      "{'Fruit': 'Grapes', 'Price per kg': '1.99', 'Origin': 'Italy'}\n",
      "{'Fruit': 'Strawberry', 'Price per kg': '3.99', 'Origin': 'Germany'}\n",
      "{'Fruit': 'Kiwi', 'Price per kg': '2.50', 'Origin': 'New Zealand'}\n",
      "{'Fruit': 'Pineapple', 'Price per kg': '2.80', 'Origin': 'Costa Rica'}\n",
      "{'Fruit': 'Blueberry', 'Price per kg': '5.00', 'Origin': 'Spain'}\n",
      "{'Fruit': 'Pear', 'Price per kg': '2.20', 'Origin': 'Netherlands'}\n",
      "{'Fruit': 'Watermelon', 'Price per kg': '1.39', 'Origin': 'Spain'}\n"
     ]
    }
   ],
   "source": [
    "rows = []\n",
    "\n",
    "with open('fruits.csv') as f:\n",
    "    reader = csv.DictReader(f)\n",
    "    for row in reader:\n",
    "        print(row)\n",
    "        rows.append(row)"
   ]
  },
  {
   "cell_type": "markdown",
   "id": "ae9a6579b044255f",
   "metadata": {},
   "source": [
    "In a dictionary format, we can access each single cell with more precision, and it can be very helpful if you want to do some fine processing of the data."
   ]
  },
  {
   "cell_type": "code",
   "execution_count": 112,
   "id": "9cd6e85942e85cd9",
   "metadata": {
    "ExecuteTime": {
     "end_time": "2025-05-19T13:19:36.059105Z",
     "start_time": "2025-05-19T13:19:36.056313Z"
    }
   },
   "outputs": [
    {
     "name": "stdout",
     "output_type": "stream",
     "text": [
      "Apple        2.99  Germany\n",
      "\n",
      "Banana       1.39  Ecuador\n",
      "\n",
      "Orange       2.99  Spain\n",
      "\n",
      "Grapes       1.99  Italy\n",
      "\n",
      "Strawberry   3.99  Germany\n",
      "\n",
      "Kiwi         2.50  New Zealand\n",
      "\n",
      "Pineapple    2.80  Costa Rica\n",
      "\n",
      "Blueberry    5.00  Spain\n",
      "\n",
      "Pear         2.20  Netherlands\n",
      "\n",
      "Watermelon   1.39  Spain\n",
      "\n"
     ]
    }
   ],
   "source": [
    "for row in rows:\n",
    "    name = row[\"Fruit\"]\n",
    "    price = row[\"Price per kg\"]\n",
    "    origin = row[\"Origin\"]\n",
    "    print(f\"{name:11s}\", end=\" \")\n",
    "    # 5.2f specifies a floating-point number with two decimal places padded to a total width of 5 characters.\n",
    "    print(f\"{float(price):5.2f} \", end=\" \")\n",
    "    print(f\"{origin}\")\n",
    "    print()"
   ]
  },
  {
   "cell_type": "markdown",
   "id": "8af46a5ed426ed36",
   "metadata": {},
   "source": [
    "But data are not always perfect clean and tidy. What if your data contains extra spaces or line breaks? Python's string method `strip()` will be very useful in this case. It removes all spaces, line breaks, tabs from the beginning and end of a string."
   ]
  },
  {
   "cell_type": "code",
   "execution_count": 120,
   "id": "6d54e3705c68c2c",
   "metadata": {
    "ExecuteTime": {
     "end_time": "2025-05-19T13:37:34.529291Z",
     "start_time": "2025-05-19T13:37:34.526926Z"
    }
   },
   "outputs": [
    {
     "name": "stdout",
     "output_type": "stream",
     "text": [
      "tryout\n",
      "tryout\n"
     ]
    }
   ],
   "source": [
    "print(\" tryout \".strip())\n",
    "print(\"\\ntryout   \".strip())"
   ]
  },
  {
   "cell_type": "markdown",
   "id": "e0fc076db10419f1",
   "metadata": {},
   "source": [
    "There are multiple ways to write to a CSV file. One is to write to them as a normal text file."
   ]
  },
  {
   "cell_type": "code",
   "execution_count": 146,
   "id": "a95a6eeeec43f9a0",
   "metadata": {
    "ExecuteTime": {
     "end_time": "2025-05-19T15:54:05.260903Z",
     "start_time": "2025-05-19T15:54:05.256013Z"
    }
   },
   "outputs": [],
   "source": [
    "with open('fruits.csv','a') as f:\n",
    "    f.write(\"Cherry,5.99,Spain\")"
   ]
  },
  {
   "cell_type": "markdown",
   "id": "7be8e2821d9c3ced",
   "metadata": {},
   "source": [
    "Or use `.writerow()` method from the CSV writer. Pay attention that it takes all the cells in a row as a list of strings."
   ]
  },
  {
   "cell_type": "code",
   "execution_count": 154,
   "id": "3daa5ee1169254d9",
   "metadata": {
    "ExecuteTime": {
     "end_time": "2025-05-19T16:12:11.858343Z",
     "start_time": "2025-05-19T16:12:11.853781Z"
    }
   },
   "outputs": [],
   "source": [
    "import csv\n",
    "\n",
    "with open(\"fruits.csv\", \"a\") as file:\n",
    "    writer = csv.writer(file)\n",
    "    writer.writerow([\"Mango\",\"1.39\",\"Spain\"])"
   ]
  },
  {
   "cell_type": "markdown",
   "id": "11a90d538d3cc4",
   "metadata": {},
   "source": [
    "The third way is to use `DictWriter`. For both the normal writer and the `DictWriter` you can use `writerows()` to write multiple rows at one time."
   ]
  },
  {
   "cell_type": "code",
   "execution_count": 157,
   "id": "26e7f260c01c342a",
   "metadata": {
    "ExecuteTime": {
     "end_time": "2025-05-19T16:21:35.783921Z",
     "start_time": "2025-05-19T16:21:35.765231Z"
    }
   },
   "outputs": [],
   "source": [
    "with open('names.csv', 'w', newline='') as csvfile:\n",
    "    fieldnames = ['first_name', 'last_name']\n",
    "    writer = csv.DictWriter(csvfile, fieldnames=fieldnames) # specify fieldnames as a parameter\n",
    "    writer.writeheader() # First writeheader() then writerow()\n",
    "    writer.writerow({'first_name': 'Wonderful', 'last_name': 'Beans'})\n",
    "    writer.writerows([{'first_name': 'Annoying', 'last_name': 'Spams'}, {'first_name': 'Lovely', 'last_name': 'Spams'}])\n",
    "    #"
   ]
  },
  {
   "cell_type": "markdown",
   "id": "519397937361f1a0",
   "metadata": {},
   "source": [
    "#### Task 4:\n",
    "Add a new column \"Available\" to \"fruits.csv\" and populate the value with random `True/False` values\n",
    "- Hint: You need to first add the column header \"Available\" to first row, then appends the corresponding values to each row below.\n",
    "- You can use all three ways introduced above to do this task, but which way is better for what kind of scenario?"
   ]
  },
  {
   "cell_type": "code",
   "execution_count": null,
   "id": "f0b428d5627ae776",
   "metadata": {},
   "outputs": [],
   "source": []
  },
  {
   "cell_type": "markdown",
   "id": "8d17a7ede5cea97e",
   "metadata": {},
   "source": [
    "---\n",
    "### Exceptions Handling\n",
    "\n",
    "Some common errors when working with files are **FileNotFoundError** (when trying to access a file which doesn't exist), **io.UnsupportedOperation** (when trying to perform an operation on a file which is not supported by the mode in which the file is opened) or **PermissionError** (the program lacks necessary permissions to access the file)."
   ]
  },
  {
   "cell_type": "code",
   "execution_count": 148,
   "id": "f19271bc68de89cb",
   "metadata": {
    "ExecuteTime": {
     "end_time": "2025-05-19T16:01:06.813920Z",
     "start_time": "2025-05-19T16:01:06.803983Z"
    }
   },
   "outputs": [
    {
     "name": "stdout",
     "output_type": "stream",
     "text": [
      "Hello there!\n",
      "\n",
      "This example file contains three lines of text.\n",
      "\n",
      "This is the last line.\n"
     ]
    }
   ],
   "source": [
    "try:\n",
    "    with open(\"example.txt\") as my_file:\n",
    "        for line in my_file:\n",
    "            print(line)\n",
    "except FileNotFoundError:\n",
    "    print(\"The file example.txt was not found\")\n",
    "except PermissionError:\n",
    "    print(\"No permission to access the file example.txt\")\n"
   ]
  },
  {
   "cell_type": "markdown",
   "id": "27ecf3b9f09e94d6",
   "metadata": {},
   "source": [
    "You can also raise errors according to your own needs."
   ]
  },
  {
   "cell_type": "code",
   "execution_count": 145,
   "id": "bf14936456695c95",
   "metadata": {
    "ExecuteTime": {
     "end_time": "2025-05-19T15:49:09.867578Z",
     "start_time": "2025-05-19T15:49:09.849107Z"
    }
   },
   "outputs": [
    {
     "ename": "ValueError",
     "evalue": "Sorry, age shall be larger than zero",
     "output_type": "error",
     "traceback": [
      "\u001B[0;31m---------------------------------------------------------------------------\u001B[0m",
      "\u001B[0;31mValueError\u001B[0m                                Traceback (most recent call last)",
      "Cell \u001B[0;32mIn[145], line 8\u001B[0m\n\u001B[1;32m      5\u001B[0m         \u001B[38;5;28;01mraise\u001B[39;00m \u001B[38;5;167;01mValueError\u001B[39;00m(\u001B[38;5;124m\"\u001B[39m\u001B[38;5;124mSorry, age shall be larger than zero\u001B[39m\u001B[38;5;124m\"\u001B[39m)\n\u001B[1;32m      6\u001B[0m     \u001B[38;5;28;01mreturn\u001B[39;00m x\n\u001B[0;32m----> 8\u001B[0m \u001B[43mage\u001B[49m\u001B[43m(\u001B[49m\u001B[38;5;241;43m-\u001B[39;49m\u001B[38;5;241;43m1\u001B[39;49m\u001B[43m)\u001B[49m\n",
      "Cell \u001B[0;32mIn[145], line 5\u001B[0m, in \u001B[0;36mage\u001B[0;34m(x)\u001B[0m\n\u001B[1;32m      3\u001B[0m     \u001B[38;5;28;01mraise\u001B[39;00m \u001B[38;5;167;01mTypeError\u001B[39;00m(\u001B[38;5;124m\"\u001B[39m\u001B[38;5;124mOnly integers are allowed\u001B[39m\u001B[38;5;124m\"\u001B[39m)\n\u001B[1;32m      4\u001B[0m \u001B[38;5;28;01mif\u001B[39;00m x \u001B[38;5;241m<\u001B[39m \u001B[38;5;241m0\u001B[39m:\n\u001B[0;32m----> 5\u001B[0m     \u001B[38;5;28;01mraise\u001B[39;00m \u001B[38;5;167;01mValueError\u001B[39;00m(\u001B[38;5;124m\"\u001B[39m\u001B[38;5;124mSorry, age shall be larger than zero\u001B[39m\u001B[38;5;124m\"\u001B[39m)\n\u001B[1;32m      6\u001B[0m \u001B[38;5;28;01mreturn\u001B[39;00m x\n",
      "\u001B[0;31mValueError\u001B[0m: Sorry, age shall be larger than zero"
     ]
    }
   ],
   "source": [
    "def age(x):\n",
    "    if type(x) is not int:\n",
    "        raise TypeError(\"Only integers are allowed\")\n",
    "    if x < 0:\n",
    "        raise ValueError(\"Sorry, age shall be larger than zero\")\n",
    "    return x\n",
    "\n",
    "age(-1)"
   ]
  }
 ],
 "metadata": {
  "kernelspec": {
   "display_name": "Python 3",
   "language": "python",
   "name": "python3"
  },
  "language_info": {
   "codemirror_mode": {
    "name": "ipython",
    "version": 2
   },
   "file_extension": ".py",
   "mimetype": "text/x-python",
   "name": "python",
   "nbconvert_exporter": "python",
   "pygments_lexer": "ipython2",
   "version": "2.7.6"
  }
 },
 "nbformat": 4,
 "nbformat_minor": 5
}
