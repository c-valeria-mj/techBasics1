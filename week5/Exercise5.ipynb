{
 "cells": [
  {
   "metadata": {},
   "cell_type": "markdown",
   "source": [
    "### Reference\n",
    "\n",
    "A reference tells us where the value can be found. The function `id()` can be used to find out the exact location the variable points to.\n",
    "The ID of the variable, is an integer, which can be thought of as the address in computer memory where the value of the variable is stored. If you execute the following code on different computers, the result will likely be different."
   ],
   "id": "7235dbfb83c736c5"
  },
  {
   "metadata": {
    "ExecuteTime": {
     "end_time": "2025-05-05T22:30:49.813234Z",
     "start_time": "2025-05-05T22:30:49.800663Z"
    }
   },
   "cell_type": "code",
   "source": [
    "# Integers\n",
    "number = 1\n",
    "print(id(number))\n",
    "number += 10\n",
    "print(id(number))\n",
    "a = 1 # See how the value 1 points to the same location of the memory\n",
    "print(id(a))\n",
    "print(\"---\")\n",
    "\n",
    "# Strings\n",
    "my_text = \"This is a reference, too\"\n",
    "print(id(my_text))\n",
    "my_text = my_text + \"!\"\n",
    "print(id(my_text))\n",
    "print(\"---\")\n",
    "\n",
    "# List and other collections\n",
    "my_list = [1,2,3]\n",
    "print(id(my_list))\n",
    "my_dictionary = {\"a\":1,\"b\":2,\"c\":3}\n",
    "print(id(my_dictionary))\n",
    "my_set = {\"a\",\"b\",\"c\"}\n",
    "print(id(my_set))\n",
    "my_tuple = (1,2,3)\n",
    "print(id(my_tuple))"
   ],
   "id": "7119c075063b9d48",
   "outputs": [
    {
     "name": "stdout",
     "output_type": "stream",
     "text": [
      "4315545840\n",
      "4315546160\n",
      "4315545840\n",
      "4314723440\n",
      "---\n",
      "4398981776\n",
      "4397610800\n",
      "---\n",
      "4399239808\n",
      "4396655936\n",
      "4397949760\n",
      "4364776832\n"
     ]
    }
   ],
   "execution_count": 123
  },
  {
   "metadata": {},
   "cell_type": "markdown",
   "source": "More than one reference to the same list",
   "id": "79faddea4a3b18f5"
  },
  {
   "metadata": {
    "ExecuteTime": {
     "end_time": "2025-05-05T16:56:53.556955Z",
     "start_time": "2025-05-05T16:56:53.553645Z"
    }
   },
   "cell_type": "code",
   "source": [
    "list1 = [1, 2, 3, 4]\n",
    "list2 = list1\n",
    "\n",
    "print(id(list1), id(list2)) # same id\n",
    "\n",
    "# a change made through any one of the references affects also the other references, as their target is the same.\n",
    "list1[0] = 10\n",
    "list2[1] = 20\n",
    "\n",
    "print(list1, list2)"
   ],
   "id": "920c36a394a16b50",
   "outputs": [
    {
     "name": "stdout",
     "output_type": "stream",
     "text": [
      "4375935872 4375935872\n",
      "[10, 20, 3, 4] [10, 20, 3, 4]\n"
     ]
    }
   ],
   "execution_count": 11
  },
  {
   "metadata": {},
   "cell_type": "markdown",
   "source": "That's why if you want to create an actual separate copy of a list without pointing to the same target, better use `.copy()`",
   "id": "5672a7fa964354d2"
  },
  {
   "metadata": {
    "ExecuteTime": {
     "end_time": "2025-05-05T16:59:43.145226Z",
     "start_time": "2025-05-05T16:59:43.141712Z"
    }
   },
   "cell_type": "code",
   "source": [
    "list3 = list1.copy()\n",
    "print(id(list1),id(list3))\n",
    "\n",
    "list3[1] = 30\n",
    "print(list1, list3)"
   ],
   "id": "7c340a829d9f1bdb",
   "outputs": [
    {
     "name": "stdout",
     "output_type": "stream",
     "text": [
      "4375935872 4358292992\n",
      "[10, 20, 3, 4] [10, 30, 3, 4]\n"
     ]
    }
   ],
   "execution_count": 13
  },
  {
   "metadata": {},
   "cell_type": "markdown",
   "source": "If you pass a list as an argument to a function, even if it's a local variable, you are still able to edit it inside a function, see the following comparison between `edit_list()` and `edit_int()`",
   "id": "a480d8ec0a212221"
  },
  {
   "metadata": {
    "ExecuteTime": {
     "end_time": "2025-05-06T06:31:17.637904Z",
     "start_time": "2025-05-06T06:31:17.630113Z"
    }
   },
   "cell_type": "code",
   "source": [
    "def edit_list(l:list):\n",
    "    l[1] = 40\n",
    "\n",
    "def edit_int(n:int):\n",
    "    n = 5\n",
    "\n",
    "def test_list_reference():\n",
    "    test_list = [1,3,9]\n",
    "    test_int = 3\n",
    "    edit_list(test_list)\n",
    "    edit_int(test_int)\n",
    "    print(test_list)\n",
    "    print(test_int)\n",
    "\n",
    "test_list_reference()"
   ],
   "id": "dec324090b0c2bb9",
   "outputs": [
    {
     "name": "stdout",
     "output_type": "stream",
     "text": [
      "[1, 40, 9]\n",
      "3\n"
     ]
    }
   ],
   "execution_count": 140
  },
  {
   "metadata": {},
   "cell_type": "markdown",
   "source": "If you create a new list inside a function and try to pass it to a list passed through parameter, it won't work because this new list is not accessible from outside the function.",
   "id": "125e5e52202c2850"
  },
  {
   "metadata": {
    "ExecuteTime": {
     "end_time": "2025-05-05T17:05:56.002538Z",
     "start_time": "2025-05-05T17:05:55.996804Z"
    }
   },
   "cell_type": "code",
   "source": [
    "def augment_all(l: list):\n",
    "    new_list = []\n",
    "    for item in l:\n",
    "        new_list.append(item + 10)\n",
    "    l = new_list\n",
    "\n",
    "numbers = [1, 2, 3]\n",
    "print(\"in the beginning:\", numbers)\n",
    "augment_all(numbers)\n",
    "print(\"after the function is executed:\", numbers)"
   ],
   "id": "4ec9b20597978b3f",
   "outputs": [
    {
     "name": "stdout",
     "output_type": "stream",
     "text": [
      "in the beginning: [1, 2, 3]\n",
      "after the function is executed: [1, 2, 3]\n"
     ]
    }
   ],
   "execution_count": 19
  },
  {
   "metadata": {},
   "cell_type": "markdown",
   "source": [
    "#### Task 1: Sudoku\n",
    "- The function `print_sudoku(sudoku: list)` takes a two-dimensional array representing a sudoku grid as its argument. Each number shall be separated by spaces while 0 shall be replaced by \"_\"\n",
    "\n",
    "- The function `add_number(sudoku: list, row_no: int, column_no: int, number:int)` takes a two-dimensional array representing a sudoku grid, two integers referring to the row and column indexes of a single square, and a single digit between 1 and 9, as its arguments. The function should add the digit to the specified location in the grid."
   ],
   "id": "76d06908854be65c"
  },
  {
   "metadata": {
    "ExecuteTime": {
     "end_time": "2025-05-05T18:52:09.987368Z",
     "start_time": "2025-05-05T18:52:09.978925Z"
    }
   },
   "cell_type": "code",
   "source": [
    "def print_sudoku(sudoku:list):\n",
    "    # try to print it in a square shape\n",
    "    pass\n",
    "\n",
    "def add_number(sudoku:list, row_no:int, col_no:int, n:int):\n",
    "    pass\n",
    "\n",
    "sudoku  = [\n",
    "    [0, 0, 0, 0, 0, 0, 0, 0, 0],\n",
    "    [0, 0, 0, 0, 0, 0, 0, 0, 0],\n",
    "    [0, 0, 0, 0, 0, 0, 0, 0, 0],\n",
    "    [0, 0, 0, 0, 0, 0, 0, 0, 0],\n",
    "    [0, 0, 0, 0, 0, 0, 0, 0, 0],\n",
    "    [0, 0, 0, 0, 0, 0, 0, 0, 0],\n",
    "    [0, 0, 0, 0, 0, 0, 0, 0, 0],\n",
    "    [0, 0, 0, 0, 0, 0, 0, 0, 0],\n",
    "    [0, 0, 0, 0, 0, 0, 0, 0, 0]\n",
    "]\n",
    "\n",
    "print_sudoku(sudoku)\n",
    "add_number(sudoku, 0, 0, 2)\n",
    "add_number(sudoku, 1, 2, 7)\n",
    "add_number(sudoku, 5, 7, 3)\n",
    "print()\n",
    "print(\"Three numbers added:\")\n",
    "print()\n",
    "print_sudoku(sudoku)"
   ],
   "id": "2e8ea68e8986b512",
   "outputs": [
    {
     "name": "stdout",
     "output_type": "stream",
     "text": [
      "\n",
      "Three numbers added:\n",
      "\n"
     ]
    }
   ],
   "execution_count": 26
  },
  {
   "metadata": {},
   "cell_type": "markdown",
   "source": [
    "---\n",
    "### Dictionary\n",
    "\n",
    "A dictionary can consist of heterogeneous data types."
   ],
   "id": "4be9be7672662f78"
  },
  {
   "metadata": {
    "collapsed": true,
    "ExecuteTime": {
     "end_time": "2025-05-05T19:35:05.436577Z",
     "start_time": "2025-05-05T19:35:05.433767Z"
    }
   },
   "cell_type": "code",
   "source": [
    "my_dictionary = {\n",
    "    \"name\": \"xyz\",\n",
    "    \"age\": 22,\n",
    "    \"city\": \"Hamburg\",\n",
    "    \"list_of_lessons\": [\"Technical Basics I\", \"Agents and Interfaces\"],\n",
    "    \"active_member\": False\n",
    "}"
   ],
   "id": "initial_id",
   "outputs": [],
   "execution_count": 50
  },
  {
   "metadata": {},
   "cell_type": "markdown",
   "source": "The familiar `for item in collection` loop can be used to traverse a dictionary too. When used on the dictionary directly, the loop goes through the keys stored in the dictionary, one by one.",
   "id": "17a33a9fdea44d25"
  },
  {
   "metadata": {
    "ExecuteTime": {
     "end_time": "2025-05-05T19:35:06.458438Z",
     "start_time": "2025-05-05T19:35:06.455521Z"
    }
   },
   "cell_type": "code",
   "source": [
    "for key in my_dictionary:\n",
    "    print(key, my_dictionary[key])"
   ],
   "id": "89ff2436424713b1",
   "outputs": [
    {
     "name": "stdout",
     "output_type": "stream",
     "text": [
      "name xyz\n",
      "age 22\n",
      "city Hamburg\n",
      "list_of_lessons ['Technical Basics I', 'Agents and Interfaces']\n",
      "active_member False\n"
     ]
    }
   ],
   "execution_count": 51
  },
  {
   "metadata": {},
   "cell_type": "markdown",
   "source": "Sometimes you need to traverse the entire contents of a dictionary. The method items returns all the keys and values stored in the dictionary, one pair at a time:",
   "id": "bbcca3e84128b82f"
  },
  {
   "metadata": {
    "ExecuteTime": {
     "end_time": "2025-05-05T19:36:01.680040Z",
     "start_time": "2025-05-05T19:36:01.675070Z"
    }
   },
   "cell_type": "code",
   "source": [
    "for key, value in my_dictionary.items():\n",
    "    print(key, value)"
   ],
   "id": "8083e73a96a18a09",
   "outputs": [
    {
     "name": "stdout",
     "output_type": "stream",
     "text": [
      "name xyz\n",
      "age 22\n",
      "city Hamburg\n",
      "list_of_lessons ['Technical Basics I', 'Agents and Interfaces']\n",
      "active_member False\n"
     ]
    }
   ],
   "execution_count": 52
  },
  {
   "metadata": {},
   "cell_type": "markdown",
   "source": "You can also get a list of only keys or values separately",
   "id": "203a38b02a756308"
  },
  {
   "metadata": {
    "ExecuteTime": {
     "end_time": "2025-05-05T20:00:10.707161Z",
     "start_time": "2025-05-05T20:00:10.701213Z"
    }
   },
   "cell_type": "code",
   "source": [
    "print(my_dictionary.keys())\n",
    "print(my_dictionary.values())"
   ],
   "id": "abbbbdc05aad5260",
   "outputs": [
    {
     "name": "stdout",
     "output_type": "stream",
     "text": [
      "dict_keys(['name', 'age', 'city', 'list_of_lessons', 'active_member'])\n",
      "dict_values(['xyz', 22, 'Hamburg', ['Technical Basics I', 'Agents and Interfaces'], False])\n"
     ]
    }
   ],
   "execution_count": 73
  },
  {
   "metadata": {},
   "cell_type": "markdown",
   "source": "Both using the index key directly as well as using `.get()` can returns the value of the item with the specified key. However, using `.get()` can avoid error messages if you are not sure if the key exist or not.",
   "id": "3a2c4bf97d56472e"
  },
  {
   "metadata": {
    "ExecuteTime": {
     "end_time": "2025-05-05T20:14:51.800215Z",
     "start_time": "2025-05-05T20:14:51.789145Z"
    }
   },
   "cell_type": "code",
   "source": [
    "print(my_dictionary.get(\"dream\"))\n",
    "print(my_dictionary[\"dream\"]) # key error"
   ],
   "id": "dd52543ac32d93bb",
   "outputs": [
    {
     "name": "stdout",
     "output_type": "stream",
     "text": [
      "None\n"
     ]
    },
    {
     "ename": "KeyError",
     "evalue": "'dream'",
     "output_type": "error",
     "traceback": [
      "\u001B[0;31m---------------------------------------------------------------------------\u001B[0m",
      "\u001B[0;31mKeyError\u001B[0m                                  Traceback (most recent call last)",
      "Cell \u001B[0;32mIn[86], line 2\u001B[0m\n\u001B[1;32m      1\u001B[0m \u001B[38;5;28mprint\u001B[39m(my_dictionary\u001B[38;5;241m.\u001B[39mget(\u001B[38;5;124m\"\u001B[39m\u001B[38;5;124mdream\u001B[39m\u001B[38;5;124m\"\u001B[39m))\n\u001B[0;32m----> 2\u001B[0m \u001B[38;5;28mprint\u001B[39m(\u001B[43mmy_dictionary\u001B[49m\u001B[43m[\u001B[49m\u001B[38;5;124;43m\"\u001B[39;49m\u001B[38;5;124;43mdream\u001B[39;49m\u001B[38;5;124;43m\"\u001B[39;49m\u001B[43m]\u001B[49m)\n",
      "\u001B[0;31mKeyError\u001B[0m: 'dream'"
     ]
    }
   ],
   "execution_count": 86
  },
  {
   "metadata": {},
   "cell_type": "markdown",
   "source": "You can update a dictionary just by using the key index or use the `.update()` method.",
   "id": "437cd61e0f1a871a"
  },
  {
   "metadata": {
    "ExecuteTime": {
     "end_time": "2025-05-05T20:17:12.218384Z",
     "start_time": "2025-05-05T20:17:12.215187Z"
    }
   },
   "cell_type": "code",
   "source": [
    "my_dictionary[\"age\"] = 23 # one value at a time\n",
    "my_dictionary.update({\"dream\":\"Travel to Antarctica\", \"job\":\"student\"}) # update can accept multiple items\n",
    "print(my_dictionary)"
   ],
   "id": "24721e23482773e",
   "outputs": [
    {
     "name": "stdout",
     "output_type": "stream",
     "text": [
      "{'name': 'xyz', 'age': 23, 'city': 'Hamburg', 'list_of_lessons': ['Technical Basics I', 'Agents and Interfaces'], 'active_member': False, 'job': 'student', 'dream': 'Travel to Antarctica'}\n"
     ]
    }
   ],
   "execution_count": 94
  },
  {
   "metadata": {},
   "cell_type": "markdown",
   "source": "You can remove a specific item from a dictionary by using `.pop()` or the last inserted one with `.popitem()`",
   "id": "101ddb86ceb2b23b"
  },
  {
   "metadata": {
    "ExecuteTime": {
     "end_time": "2025-05-05T20:17:13.032762Z",
     "start_time": "2025-05-05T20:17:13.029688Z"
    }
   },
   "cell_type": "code",
   "source": [
    "print(my_dictionary.pop(\"dream\")) # it returns the value\n",
    "print(my_dictionary)\n",
    "my_dictionary.popitem()\n",
    "print(my_dictionary)"
   ],
   "id": "8258d0ba4e021037",
   "outputs": [
    {
     "name": "stdout",
     "output_type": "stream",
     "text": [
      "Travel to Antarctica\n",
      "{'name': 'xyz', 'age': 23, 'city': 'Hamburg', 'list_of_lessons': ['Technical Basics I', 'Agents and Interfaces'], 'active_member': False, 'job': 'student'}\n",
      "{'name': 'xyz', 'age': 23, 'city': 'Hamburg', 'list_of_lessons': ['Technical Basics I', 'Agents and Interfaces'], 'active_member': False}\n"
     ]
    }
   ],
   "execution_count": 95
  },
  {
   "metadata": {},
   "cell_type": "markdown",
   "source": "To check if a key already exist in a dictionary, use the membership operator `in`:",
   "id": "14ca19c2665ddd"
  },
  {
   "metadata": {
    "ExecuteTime": {
     "end_time": "2025-05-05T20:26:20.929145Z",
     "start_time": "2025-05-05T20:26:20.922732Z"
    }
   },
   "cell_type": "code",
   "source": [
    "if \"dream\" in my_dictionary:\n",
    "    print(my_dictionary[\"dream\"])\n",
    "else:\n",
    "    print(\"no dream :(\")"
   ],
   "id": "82a14b910926f492",
   "outputs": [
    {
     "name": "stdout",
     "output_type": "stream",
     "text": [
      "no dream :(\n"
     ]
    }
   ],
   "execution_count": 98
  },
  {
   "metadata": {},
   "cell_type": "markdown",
   "source": [
    "#### Task 2: Word Counter\n",
    "Write a function that takes a string and return a dictionary that counts all the words in it.\n",
    "\n",
    "Pay attention to the following:\n",
    "- Ignore all special characters\n",
    "- The same word with different capitalisation shall be counted as the same word\n",
    "\n",
    "Hint: Remember you can split a string to a list of words by using `split()`\n",
    "\n",
    "Challenge: Sort your result from higher frequency to lower frequency"
   ],
   "id": "166d33ef6b0e6361"
  },
  {
   "metadata": {
    "ExecuteTime": {
     "end_time": "2025-05-05T19:56:46.349145Z",
     "start_time": "2025-05-05T19:56:46.344132Z"
    }
   },
   "cell_type": "code",
   "source": [
    "import re\n",
    "\n",
    "def word_counter(corpus:str):\n",
    "    # this line helps to clean up the special characters\n",
    "    corpus = re.sub('\\W+',' ', corpus)\n",
    "\n",
    "    pass\n",
    "\n",
    "test_input = \"This is a sentence that needs to be counted. Is the sentence long enough?\"\n",
    "print(word_counter(test_input))\n",
    "# {'is': 2, 'sentence': 2, 'this': 1, 'a': 1, 'that': 1, 'needs': 1, 'to': 1, 'be': 1, 'counted': 1, 'the': 1, 'long': 1, 'enough': 1}\n"
   ],
   "id": "524c5c351442b521",
   "outputs": [
    {
     "name": "stdout",
     "output_type": "stream",
     "text": [
      "None\n"
     ]
    }
   ],
   "execution_count": 72
  },
  {
   "metadata": {},
   "cell_type": "markdown",
   "source": [
    "---\n",
    "### Tuple\n",
    "\n",
    "The following code creates a tuple containing the coordinates of a point. The items stored in a tuple can be accessed by index, just like the items in a list."
   ],
   "id": "5885288d6df544b7"
  },
  {
   "metadata": {
    "ExecuteTime": {
     "end_time": "2025-05-05T18:57:50.016111Z",
     "start_time": "2025-05-05T18:57:50.011893Z"
    }
   },
   "cell_type": "code",
   "source": [
    "point = (5,8)\n",
    "print(\"x coordinate:\", point[0])\n",
    "print(\"y coordinate:\", point[1])"
   ],
   "id": "bf5fb00c107084ff",
   "outputs": [
    {
     "name": "stdout",
     "output_type": "stream",
     "text": [
      "x coordinate: 5\n",
      "y coordinate: 8\n"
     ]
    }
   ],
   "execution_count": 27
  },
  {
   "metadata": {},
   "cell_type": "markdown",
   "source": "The values stored in a tuple cannot be changed after the tuple is initiated.  The following code will throw an error:",
   "id": "3844dac436f6cbfc"
  },
  {
   "metadata": {
    "ExecuteTime": {
     "end_time": "2025-05-05T18:59:07.291917Z",
     "start_time": "2025-05-05T18:59:07.277043Z"
    }
   },
   "cell_type": "code",
   "source": "point[0] = 15\n",
   "id": "ab1e9990b08eceac",
   "outputs": [
    {
     "ename": "TypeError",
     "evalue": "'tuple' object does not support item assignment",
     "output_type": "error",
     "traceback": [
      "\u001B[0;31m---------------------------------------------------------------------------\u001B[0m",
      "\u001B[0;31mTypeError\u001B[0m                                 Traceback (most recent call last)",
      "Cell \u001B[0;32mIn[28], line 1\u001B[0m\n\u001B[0;32m----> 1\u001B[0m point[\u001B[38;5;241m0\u001B[39m] \u001B[38;5;241m=\u001B[39m \u001B[38;5;241m15\u001B[39m\n",
      "\u001B[0;31mTypeError\u001B[0m: 'tuple' object does not support item assignment"
     ]
    }
   ],
   "execution_count": 28
  },
  {
   "metadata": {},
   "cell_type": "markdown",
   "source": "The parentheses are not strictly necessary when defining tuples. The following two variable assignments are identical in their results:",
   "id": "8d603c23257e42a1"
  },
  {
   "metadata": {
    "ExecuteTime": {
     "end_time": "2025-05-05T19:08:18.535201Z",
     "start_time": "2025-05-05T19:08:18.532744Z"
    }
   },
   "cell_type": "code",
   "source": [
    "numbers = (1,2,3,4,5)\n",
    "numbers = 1,2,3,4,5\n",
    " # same logic of indexing applies to tuple\n",
    "print(numbers[-1])\n",
    "print(numbers[2:])"
   ],
   "id": "d57aaf5b6eb9b457",
   "outputs": [
    {
     "name": "stdout",
     "output_type": "stream",
     "text": [
      "5\n",
      "(3, 4, 5)\n"
     ]
    }
   ],
   "execution_count": 37
  },
  {
   "metadata": {},
   "cell_type": "markdown",
   "source": "Since tuples are immutable, they do not have a built-in `append()` or `remove()` method, but there are other ways to add/remove items to a tuple.",
   "id": "3009005b50c3d66d"
  },
  {
   "metadata": {
    "ExecuteTime": {
     "end_time": "2025-05-05T19:16:58.926332Z",
     "start_time": "2025-05-05T19:16:58.922003Z"
    }
   },
   "cell_type": "code",
   "source": [
    "thistuple = (\"apple\", \"banana\", \"cherry\")\n",
    "# we can convert a tuple to a list, so that we can change its items\n",
    "y = list(thistuple)\n",
    "y.append(\"orange\")\n",
    "y.remove(\"apple\")\n",
    "thistuple = tuple(y)\n",
    "print(thistuple)"
   ],
   "id": "86893bd2269524f9",
   "outputs": [
    {
     "name": "stdout",
     "output_type": "stream",
     "text": [
      "('banana', 'cherry', 'orange')\n"
     ]
    }
   ],
   "execution_count": 48
  },
  {
   "metadata": {},
   "cell_type": "markdown",
   "source": "When creating a tuple with only one item, remember to include a comma after the item, otherwise it will not be identified as a tuple.",
   "id": "aec988c03d120d71"
  },
  {
   "metadata": {
    "ExecuteTime": {
     "end_time": "2025-05-05T19:11:20.626418Z",
     "start_time": "2025-05-05T19:11:20.622746Z"
    }
   },
   "cell_type": "code",
   "source": [
    "single_tuple = (1,)\n",
    "print(type(single_tuple))\n",
    "single_tuple = (1)\n",
    "print(type(single_tuple))"
   ],
   "id": "531f78ce30b2df56",
   "outputs": [
    {
     "name": "stdout",
     "output_type": "stream",
     "text": [
      "<class 'tuple'>\n",
      "<class 'int'>\n"
     ]
    }
   ],
   "execution_count": 41
  },
  {
   "metadata": {},
   "cell_type": "markdown",
   "source": "You can count the number of times a value appears in a tuple with `.count()`:",
   "id": "30e4795596370755"
  },
  {
   "metadata": {
    "ExecuteTime": {
     "end_time": "2025-05-05T19:15:08.308348Z",
     "start_time": "2025-05-05T19:15:08.305082Z"
    }
   },
   "cell_type": "code",
   "source": [
    "this_tuple = (1, 3, 7, 8, 7, 5, 4, 6, 8, 5)\n",
    "\n",
    "x = this_tuple.count(5)\n",
    "\n",
    "print(x)"
   ],
   "id": "ce76bd5554e847a3",
   "outputs": [
    {
     "name": "stdout",
     "output_type": "stream",
     "text": [
      "2\n"
     ]
    }
   ],
   "execution_count": 43
  },
  {
   "metadata": {},
   "cell_type": "markdown",
   "source": "Or search the first occurrence of a value and get its position with `.index()`",
   "id": "81f04c6683c14c"
  },
  {
   "metadata": {
    "ExecuteTime": {
     "end_time": "2025-05-05T19:15:29.072240Z",
     "start_time": "2025-05-05T19:15:29.068098Z"
    }
   },
   "cell_type": "code",
   "source": [
    "y = this_tuple.index(7)\n",
    "print(y)"
   ],
   "id": "839724737ce1603e",
   "outputs": [
    {
     "name": "stdout",
     "output_type": "stream",
     "text": [
      "2\n"
     ]
    }
   ],
   "execution_count": 46
  },
  {
   "metadata": {},
   "cell_type": "markdown",
   "source": "You can use tuples as keys for dictionary, because they are mutable",
   "id": "462749a9a3e36ea3"
  },
  {
   "metadata": {
    "ExecuteTime": {
     "end_time": "2025-05-05T21:05:02.363530Z",
     "start_time": "2025-05-05T21:05:02.356313Z"
    }
   },
   "cell_type": "code",
   "source": [
    "tuple_dictionary = {}\n",
    "\n",
    "tuple_dictionary[(0,0)] = \"upper left \"\n",
    "tuple_dictionary[(1,1)] = \"  center   \"\n",
    "tuple_dictionary[(2,2)] = \"lower right\""
   ],
   "id": "3201ab95f0a48498",
   "outputs": [],
   "execution_count": 116
  },
  {
   "metadata": {},
   "cell_type": "markdown",
   "source": [
    "#### Task 3\n",
    "Print the `tuple_dictionary` above in a 3x3 grid\n",
    "- Skip the position if the key does not exist\n",
    "- Use `|` as seperator to separate the text so that the printed result shall look like the following"
   ],
   "id": "480bd58ed3b84d33"
  },
  {
   "metadata": {},
   "cell_type": "code",
   "outputs": [],
   "execution_count": null,
   "source": [
    "# Your result:\n",
    "# |upper left |           |           |\n",
    "# |           |  center   |           |\n",
    "# |           |           |lower right|\n"
   ],
   "id": "1850c37f1d8fcfd7"
  },
  {
   "metadata": {},
   "cell_type": "markdown",
   "source": [
    "#### Set\n",
    "A set is a collection of different items. The values `True` - `1` and `False` - `0` are considered the same value in sets, and are treated as duplicates\n"
   ],
   "id": "6f1a30a21270eaf9"
  },
  {
   "metadata": {
    "ExecuteTime": {
     "end_time": "2025-05-05T22:33:38.073030Z",
     "start_time": "2025-05-05T22:33:38.070488Z"
    }
   },
   "cell_type": "code",
   "source": [
    "unique_set = {True, 1,0, False} # if you init a set with duplicates, the later ones won't be inserted\n",
    "print(unique_set)"
   ],
   "id": "9cf5010d47e0e350",
   "outputs": [
    {
     "name": "stdout",
     "output_type": "stream",
     "text": [
      "{0, True}\n"
     ]
    }
   ],
   "execution_count": 128
  },
  {
   "metadata": {},
   "cell_type": "markdown",
   "source": "Since a set is not ordered, to add an item is called `.add()` instead of `.append()`, or you can always use `.update()` for multiple items.",
   "id": "b4fd8bd0aa3c7a85"
  },
  {
   "metadata": {
    "ExecuteTime": {
     "end_time": "2025-05-06T05:36:45.726401Z",
     "start_time": "2025-05-06T05:36:45.714233Z"
    }
   },
   "cell_type": "code",
   "source": [
    "integer_set = {1,2,3,4,5}\n",
    "integer_set.add(6)\n",
    "print(integer_set)\n",
    "integer_set.update({7,8})\n",
    "print(integer_set)"
   ],
   "id": "cf05daeaa6542303",
   "outputs": [
    {
     "name": "stdout",
     "output_type": "stream",
     "text": [
      "{1, 2, 3, 4, 5, 6}\n",
      "{1, 2, 3, 4, 5, 6, 7, 8}\n"
     ]
    }
   ],
   "execution_count": 129
  },
  {
   "metadata": {},
   "cell_type": "markdown",
   "source": "To remove an item you have two choices: `.remove()` or `.discard()`. The `remove()` method will raise an error if the specified item does not exist, while the `discard()` method will not.",
   "id": "ff1c3f72c801892f"
  },
  {
   "metadata": {
    "ExecuteTime": {
     "end_time": "2025-05-06T05:45:39.487072Z",
     "start_time": "2025-05-06T05:45:39.470275Z"
    }
   },
   "cell_type": "code",
   "source": [
    "integer_set.remove(6)\n",
    "print(integer_set)\n",
    "integer_set.discard(6)\n",
    "print(integer_set)"
   ],
   "id": "4e6454a10d39549a",
   "outputs": [
    {
     "ename": "KeyError",
     "evalue": "6",
     "output_type": "error",
     "traceback": [
      "\u001B[0;31m---------------------------------------------------------------------------\u001B[0m",
      "\u001B[0;31mKeyError\u001B[0m                                  Traceback (most recent call last)",
      "Cell \u001B[0;32mIn[131], line 1\u001B[0m\n\u001B[0;32m----> 1\u001B[0m \u001B[43minteger_set\u001B[49m\u001B[38;5;241;43m.\u001B[39;49m\u001B[43mremove\u001B[49m\u001B[43m(\u001B[49m\u001B[38;5;241;43m6\u001B[39;49m\u001B[43m)\u001B[49m\n\u001B[1;32m      2\u001B[0m \u001B[38;5;28mprint\u001B[39m(integer_set)\n\u001B[1;32m      3\u001B[0m integer_set\u001B[38;5;241m.\u001B[39mdiscard(\u001B[38;5;241m6\u001B[39m)\n",
      "\u001B[0;31mKeyError\u001B[0m: 6"
     ]
    }
   ],
   "execution_count": 131
  },
  {
   "metadata": {},
   "cell_type": "markdown",
   "source": "It's not necessary to remember every method of a data type at the beginning. You can always look it up to double check!",
   "id": "bcfef67f4b25f4e6"
  },
  {
   "metadata": {},
   "cell_type": "markdown",
   "source": "What are unique to set are set operations and subset/superset check ups. You can either use symbols or the textual equivalent for the same methods.",
   "id": "154a85bccfa8f9e9"
  },
  {
   "metadata": {
    "ExecuteTime": {
     "end_time": "2025-05-06T06:00:23.461360Z",
     "start_time": "2025-05-06T06:00:23.453723Z"
    }
   },
   "cell_type": "code",
   "source": [
    "x = {\"apple\", \"banana\", \"cherry\"}\n",
    "y = {\"google\", \"microsoft\", \"apple\"}\n",
    "\n",
    "u = x | y # x.union(y)\n",
    "i = x & y # x.intersection(y)\n",
    "d = x - y # x.difference(y)\n",
    "sd = x ^ y # x.symmetric_difference(y)\n",
    "\n",
    "print(u)\n",
    "print(i)\n",
    "print(d)\n",
    "print(sd)\n",
    "\n",
    "odd_set = {1,3,5}\n",
    "print(odd_set <= integer_set) # odd_set.is_subset(integer_set)\n",
    "print(integer_set >= odd_set) # integer_set.is_superset(odd_set)"
   ],
   "id": "51c0ce1474a8783",
   "outputs": [
    {
     "name": "stdout",
     "output_type": "stream",
     "text": [
      "{'banana', 'microsoft', 'apple', 'google', 'cherry'}\n",
      "{'apple'}\n",
      "{'banana', 'cherry'}\n",
      "{'banana', 'microsoft', 'google', 'cherry'}\n",
      "True\n",
      "True\n"
     ]
    }
   ],
   "execution_count": 136
  },
  {
   "metadata": {},
   "cell_type": "markdown",
   "source": [
    "#### Task 4\n",
    "Write a function that get unique values out of a series of user inputs\n",
    "\n",
    "Challenge: how to return things in their original order?"
   ],
   "id": "a2f24dc47f1696dc"
  },
  {
   "metadata": {
    "ExecuteTime": {
     "end_time": "2025-05-06T06:01:59.893293Z",
     "start_time": "2025-05-06T06:01:52.632464Z"
    }
   },
   "cell_type": "code",
   "source": [
    "def get_unique_numbers(numbers:list):\n",
    "    # hint: make use of set\n",
    "    pass\n",
    "\n",
    "user_input = input(\"provide a series of numbers and seperate them by ,\")\n",
    "numbers = user_input.split(\",\")\n",
    "print(numbers)\n",
    "unique_numbers = get_unique_numbers(numbers)\n",
    "print(unique_numbers)"
   ],
   "id": "9efd189455267e09",
   "outputs": [
    {
     "name": "stdout",
     "output_type": "stream",
     "text": [
      "['3', '5', '3', '7']\n",
      "['5', '3', '7']\n"
     ]
    }
   ],
   "execution_count": 139
  }
 ],
 "metadata": {
  "kernelspec": {
   "display_name": "Python 3",
   "language": "python",
   "name": "python3"
  },
  "language_info": {
   "codemirror_mode": {
    "name": "ipython",
    "version": 2
   },
   "file_extension": ".py",
   "mimetype": "text/x-python",
   "name": "python",
   "nbconvert_exporter": "python",
   "pygments_lexer": "ipython2",
   "version": "2.7.6"
  }
 },
 "nbformat": 4,
 "nbformat_minor": 5
}
