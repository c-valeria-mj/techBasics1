{
 "cells": [
  {
   "cell_type": "markdown",
   "id": "7235dbfb83c736c5",
   "metadata": {},
   "source": [
    "### Reference\n",
    "\n",
    "A reference tells us where the value can be found. The function `id()` can be used to find out the exact location the variable points to.\n",
    "The ID of the variable, is an integer, which can be thought of as the address in computer memory where the value of the variable is stored. If you execute the following code on different computers, the result will likely be different."
   ]
  },
  {
   "cell_type": "code",
   "execution_count": 123,
   "id": "7119c075063b9d48",
   "metadata": {
    "ExecuteTime": {
     "end_time": "2025-05-05T22:30:49.813234Z",
     "start_time": "2025-05-05T22:30:49.800663Z"
    }
   },
   "outputs": [
    {
     "name": "stdout",
     "output_type": "stream",
     "text": [
      "4315545840\n",
      "4315546160\n",
      "4315545840\n",
      "4314723440\n",
      "---\n",
      "4398981776\n",
      "4397610800\n",
      "---\n",
      "4399239808\n",
      "4396655936\n",
      "4397949760\n",
      "4364776832\n"
     ]
    }
   ],
   "source": [
    "# Integers\n",
    "number = 1\n",
    "print(id(number))\n",
    "number += 10\n",
    "print(id(number))\n",
    "a = 1 # See how the value 1 points to the same location of the memory\n",
    "print(id(a))\n",
    "print(\"---\")\n",
    "\n",
    "# Strings\n",
    "my_text = \"This is a reference, too\"\n",
    "print(id(my_text))\n",
    "my_text = my_text + \"!\"\n",
    "print(id(my_text))\n",
    "print(\"---\")\n",
    "\n",
    "# List and other collections\n",
    "my_list = [1,2,3]\n",
    "print(id(my_list))\n",
    "my_dictionary = {\"a\":1,\"b\":2,\"c\":3}\n",
    "print(id(my_dictionary))\n",
    "my_set = {\"a\",\"b\",\"c\"}\n",
    "print(id(my_set))\n",
    "my_tuple = (1,2,3)\n",
    "print(id(my_tuple))"
   ]
  },
  {
   "cell_type": "markdown",
   "id": "79faddea4a3b18f5",
   "metadata": {},
   "source": [
    "More than one reference to the same list"
   ]
  },
  {
   "cell_type": "code",
   "execution_count": 11,
   "id": "920c36a394a16b50",
   "metadata": {
    "ExecuteTime": {
     "end_time": "2025-05-05T16:56:53.556955Z",
     "start_time": "2025-05-05T16:56:53.553645Z"
    }
   },
   "outputs": [
    {
     "name": "stdout",
     "output_type": "stream",
     "text": [
      "4375935872 4375935872\n",
      "[10, 20, 3, 4] [10, 20, 3, 4]\n"
     ]
    }
   ],
   "source": [
    "list1 = [1, 2, 3, 4]\n",
    "list2 = list1\n",
    "\n",
    "print(id(list1), id(list2)) # same id\n",
    "\n",
    "# a change made through any one of the references affects also the other references, as their target is the same.\n",
    "list1[0] = 10\n",
    "list2[1] = 20\n",
    "\n",
    "print(list1, list2)"
   ]
  },
  {
   "cell_type": "markdown",
   "id": "5672a7fa964354d2",
   "metadata": {},
   "source": [
    "That's why if you want to create an actual separate copy of a list without pointing to the same target, better use `.copy()`"
   ]
  },
  {
   "cell_type": "code",
   "execution_count": 13,
   "id": "7c340a829d9f1bdb",
   "metadata": {
    "ExecuteTime": {
     "end_time": "2025-05-05T16:59:43.145226Z",
     "start_time": "2025-05-05T16:59:43.141712Z"
    }
   },
   "outputs": [
    {
     "name": "stdout",
     "output_type": "stream",
     "text": [
      "4375935872 4358292992\n",
      "[10, 20, 3, 4] [10, 30, 3, 4]\n"
     ]
    }
   ],
   "source": [
    "list3 = list1.copy()\n",
    "print(id(list1),id(list3))\n",
    "\n",
    "list3[1] = 30\n",
    "print(list1, list3)"
   ]
  },
  {
   "cell_type": "markdown",
   "id": "a480d8ec0a212221",
   "metadata": {},
   "source": [
    "If you pass a list as an argument to a function, even if it's a local variable, you are still able to edit it inside a function, see the following comparison between `edit_list()` and `edit_int()`"
   ]
  },
  {
   "cell_type": "code",
   "execution_count": 140,
   "id": "dec324090b0c2bb9",
   "metadata": {
    "ExecuteTime": {
     "end_time": "2025-05-06T06:31:17.637904Z",
     "start_time": "2025-05-06T06:31:17.630113Z"
    }
   },
   "outputs": [
    {
     "name": "stdout",
     "output_type": "stream",
     "text": [
      "[1, 40, 9]\n",
      "3\n"
     ]
    }
   ],
   "source": [
    "def edit_list(l:list):\n",
    "    l[1] = 40\n",
    "\n",
    "def edit_int(n:int):\n",
    "    n = 5\n",
    "\n",
    "def test_list_reference():\n",
    "    test_list = [1,3,9]\n",
    "    test_int = 3\n",
    "    edit_list(test_list)\n",
    "    edit_int(test_int)\n",
    "    print(test_list)\n",
    "    print(test_int)\n",
    "\n",
    "test_list_reference()"
   ]
  },
  {
   "cell_type": "markdown",
   "id": "125e5e52202c2850",
   "metadata": {},
   "source": [
    "If you create a new list inside a function and try to pass it to a list passed through parameter, it won't work because this new list is not accessible from outside the function."
   ]
  },
  {
   "cell_type": "code",
   "execution_count": 19,
   "id": "4ec9b20597978b3f",
   "metadata": {
    "ExecuteTime": {
     "end_time": "2025-05-05T17:05:56.002538Z",
     "start_time": "2025-05-05T17:05:55.996804Z"
    }
   },
   "outputs": [
    {
     "name": "stdout",
     "output_type": "stream",
     "text": [
      "in the beginning: [1, 2, 3]\n",
      "after the function is executed: [1, 2, 3]\n"
     ]
    }
   ],
   "source": [
    "def augment_all(l: list):\n",
    "    new_list = []\n",
    "    for item in l:\n",
    "        new_list.append(item + 10)\n",
    "    l = new_list\n",
    "\n",
    "numbers = [1, 2, 3]\n",
    "print(\"in the beginning:\", numbers)\n",
    "augment_all(numbers)\n",
    "print(\"after the function is executed:\", numbers)"
   ]
  },
  {
   "cell_type": "markdown",
   "id": "76d06908854be65c",
   "metadata": {},
   "source": [
    "#### Task 1: Sudoku\n",
    "- The function `print_sudoku(sudoku: list)` takes a two-dimensional array representing a sudoku grid as its argument. Each number shall be separated by spaces while 0 shall be replaced by \"_\"\n",
    "\n",
    "- The function `add_number(sudoku: list, row_no: int, column_no: int, number:int)` takes a two-dimensional array representing a sudoku grid, two integers referring to the row and column indexes of a single square, and a single digit between 1 and 9, as its arguments. The function should add the digit to the specified location in the grid."
   ]
  },
  {
   "cell_type": "code",
   "execution_count": 8,
   "id": "2e8ea68e8986b512",
   "metadata": {
    "ExecuteTime": {
     "end_time": "2025-05-05T18:52:09.987368Z",
     "start_time": "2025-05-05T18:52:09.978925Z"
    }
   },
   "outputs": [
    {
     "name": "stdout",
     "output_type": "stream",
     "text": [
      "_ _ _ _ _ _ _ _ _  \n",
      "_ _ _ _ _ _ _ _ _  \n",
      "_ _ _ _ _ _ _ _ _  \n",
      "_ _ _ _ _ _ _ _ _  \n",
      "_ _ _ _ _ _ _ _ _  \n",
      "_ _ _ _ _ _ _ _ _  \n",
      "_ _ _ _ _ _ _ _ _  \n",
      "_ _ _ _ _ _ _ _ _  \n",
      "_ _ _ _ _ _ _ _ _  \n",
      "\n",
      "Three numbers added:\n",
      "\n",
      "2 _ _ _ _ _ _ _ _  \n",
      "_ _ 7 _ _ _ _ _ _  \n",
      "_ _ _ _ _ _ _ _ _  \n",
      "_ _ _ _ _ _ _ _ _  \n",
      "_ _ _ _ _ _ _ _ _  \n",
      "_ _ _ _ _ _ _ 3 _  \n",
      "_ _ _ _ _ _ _ _ _  \n",
      "_ _ _ _ _ _ _ _ _  \n",
      "_ _ _ _ _ _ _ _ _  \n"
     ]
    }
   ],
   "source": [
    "def print_sudoku(sudoku:list):\n",
    "    # try to print it in a square shape\n",
    "    for x in range(len(sudoku)):\n",
    "        for y in range(len(sudoku)):\n",
    "            if sudoku[x][y] == 0:\n",
    "                sudoku[x][y] = \"_\"\n",
    "            print(sudoku[x][y], end=\" \")\n",
    "        print(\" \")\n",
    "\n",
    "def add_number(sudoku:list, row_no:int, col_no:int, n:int):\n",
    "    sudoku[row_no][col_no] = n\n",
    "\n",
    "sudoku  = [\n",
    "    [0, 0, 0, 0, 0, 0, 0, 0, 0],\n",
    "    [0, 0, 0, 0, 0, 0, 0, 0, 0],\n",
    "    [0, 0, 0, 0, 0, 0, 0, 0, 0],\n",
    "    [0, 0, 0, 0, 0, 0, 0, 0, 0],\n",
    "    [0, 0, 0, 0, 0, 0, 0, 0, 0],\n",
    "    [0, 0, 0, 0, 0, 0, 0, 0, 0],\n",
    "    [0, 0, 0, 0, 0, 0, 0, 0, 0],\n",
    "    [0, 0, 0, 0, 0, 0, 0, 0, 0],\n",
    "    [0, 0, 0, 0, 0, 0, 0, 0, 0]\n",
    "]\n",
    "\n",
    "print_sudoku(sudoku)\n",
    "add_number(sudoku, 0, 0, 2)\n",
    "add_number(sudoku, 1, 2, 7)\n",
    "add_number(sudoku, 5, 7, 3)\n",
    "print()\n",
    "print(\"Three numbers added:\")\n",
    "print()\n",
    "print_sudoku(sudoku)"
   ]
  },
  {
   "cell_type": "markdown",
   "id": "4be9be7672662f78",
   "metadata": {},
   "source": [
    "---\n",
    "### Dictionary\n",
    "\n",
    "A dictionary can consist of heterogeneous data types."
   ]
  },
  {
   "cell_type": "code",
   "execution_count": 50,
   "id": "initial_id",
   "metadata": {
    "ExecuteTime": {
     "end_time": "2025-05-05T19:35:05.436577Z",
     "start_time": "2025-05-05T19:35:05.433767Z"
    },
    "collapsed": true
   },
   "outputs": [],
   "source": [
    "my_dictionary = {\n",
    "    \"name\": \"xyz\",\n",
    "    \"age\": 22,\n",
    "    \"city\": \"Hamburg\",\n",
    "    \"list_of_lessons\": [\"Technical Basics I\", \"Agents and Interfaces\"],\n",
    "    \"active_member\": False\n",
    "}"
   ]
  },
  {
   "cell_type": "markdown",
   "id": "17a33a9fdea44d25",
   "metadata": {},
   "source": [
    "The familiar `for item in collection` loop can be used to traverse a dictionary too. When used on the dictionary directly, the loop goes through the keys stored in the dictionary, one by one."
   ]
  },
  {
   "cell_type": "code",
   "execution_count": 51,
   "id": "89ff2436424713b1",
   "metadata": {
    "ExecuteTime": {
     "end_time": "2025-05-05T19:35:06.458438Z",
     "start_time": "2025-05-05T19:35:06.455521Z"
    }
   },
   "outputs": [
    {
     "name": "stdout",
     "output_type": "stream",
     "text": [
      "name xyz\n",
      "age 22\n",
      "city Hamburg\n",
      "list_of_lessons ['Technical Basics I', 'Agents and Interfaces']\n",
      "active_member False\n"
     ]
    }
   ],
   "source": [
    "for key in my_dictionary:\n",
    "    print(key, my_dictionary[key])"
   ]
  },
  {
   "cell_type": "markdown",
   "id": "bbcca3e84128b82f",
   "metadata": {},
   "source": [
    "Sometimes you need to traverse the entire contents of a dictionary. The method items returns all the keys and values stored in the dictionary, one pair at a time:"
   ]
  },
  {
   "cell_type": "code",
   "execution_count": 52,
   "id": "8083e73a96a18a09",
   "metadata": {
    "ExecuteTime": {
     "end_time": "2025-05-05T19:36:01.680040Z",
     "start_time": "2025-05-05T19:36:01.675070Z"
    }
   },
   "outputs": [
    {
     "name": "stdout",
     "output_type": "stream",
     "text": [
      "name xyz\n",
      "age 22\n",
      "city Hamburg\n",
      "list_of_lessons ['Technical Basics I', 'Agents and Interfaces']\n",
      "active_member False\n"
     ]
    }
   ],
   "source": [
    "for key, value in my_dictionary.items():\n",
    "    print(key, value)"
   ]
  },
  {
   "cell_type": "markdown",
   "id": "203a38b02a756308",
   "metadata": {},
   "source": [
    "You can also get a list of only keys or values separately"
   ]
  },
  {
   "cell_type": "code",
   "execution_count": 73,
   "id": "abbbbdc05aad5260",
   "metadata": {
    "ExecuteTime": {
     "end_time": "2025-05-05T20:00:10.707161Z",
     "start_time": "2025-05-05T20:00:10.701213Z"
    }
   },
   "outputs": [
    {
     "name": "stdout",
     "output_type": "stream",
     "text": [
      "dict_keys(['name', 'age', 'city', 'list_of_lessons', 'active_member'])\n",
      "dict_values(['xyz', 22, 'Hamburg', ['Technical Basics I', 'Agents and Interfaces'], False])\n"
     ]
    }
   ],
   "source": [
    "print(my_dictionary.keys())\n",
    "print(my_dictionary.values())"
   ]
  },
  {
   "cell_type": "markdown",
   "id": "3a2c4bf97d56472e",
   "metadata": {},
   "source": [
    "Both using the index key directly as well as using `.get()` can returns the value of the item with the specified key. However, using `.get()` can avoid error messages if you are not sure if the key exist or not."
   ]
  },
  {
   "cell_type": "code",
   "execution_count": 86,
   "id": "dd52543ac32d93bb",
   "metadata": {
    "ExecuteTime": {
     "end_time": "2025-05-05T20:14:51.800215Z",
     "start_time": "2025-05-05T20:14:51.789145Z"
    }
   },
   "outputs": [
    {
     "name": "stdout",
     "output_type": "stream",
     "text": [
      "None\n"
     ]
    },
    {
     "ename": "KeyError",
     "evalue": "'dream'",
     "output_type": "error",
     "traceback": [
      "\u001b[0;31m---------------------------------------------------------------------------\u001b[0m",
      "\u001b[0;31mKeyError\u001b[0m                                  Traceback (most recent call last)",
      "Cell \u001b[0;32mIn[86], line 2\u001b[0m\n\u001b[1;32m      1\u001b[0m \u001b[38;5;28mprint\u001b[39m(my_dictionary\u001b[38;5;241m.\u001b[39mget(\u001b[38;5;124m\"\u001b[39m\u001b[38;5;124mdream\u001b[39m\u001b[38;5;124m\"\u001b[39m))\n\u001b[0;32m----> 2\u001b[0m \u001b[38;5;28mprint\u001b[39m(\u001b[43mmy_dictionary\u001b[49m\u001b[43m[\u001b[49m\u001b[38;5;124;43m\"\u001b[39;49m\u001b[38;5;124;43mdream\u001b[39;49m\u001b[38;5;124;43m\"\u001b[39;49m\u001b[43m]\u001b[49m)\n",
      "\u001b[0;31mKeyError\u001b[0m: 'dream'"
     ]
    }
   ],
   "source": [
    "print(my_dictionary.get(\"dream\"))\n",
    "print(my_dictionary[\"dream\"]) # key error"
   ]
  },
  {
   "cell_type": "markdown",
   "id": "437cd61e0f1a871a",
   "metadata": {},
   "source": [
    "You can update a dictionary just by using the key index or use the `.update()` method."
   ]
  },
  {
   "cell_type": "code",
   "execution_count": 94,
   "id": "24721e23482773e",
   "metadata": {
    "ExecuteTime": {
     "end_time": "2025-05-05T20:17:12.218384Z",
     "start_time": "2025-05-05T20:17:12.215187Z"
    }
   },
   "outputs": [
    {
     "name": "stdout",
     "output_type": "stream",
     "text": [
      "{'name': 'xyz', 'age': 23, 'city': 'Hamburg', 'list_of_lessons': ['Technical Basics I', 'Agents and Interfaces'], 'active_member': False, 'job': 'student', 'dream': 'Travel to Antarctica'}\n"
     ]
    }
   ],
   "source": [
    "my_dictionary[\"age\"] = 23 # one value at a time\n",
    "my_dictionary.update({\"dream\":\"Travel to Antarctica\", \"job\":\"student\"}) # update can accept multiple items\n",
    "print(my_dictionary)"
   ]
  },
  {
   "cell_type": "markdown",
   "id": "101ddb86ceb2b23b",
   "metadata": {},
   "source": [
    "You can remove a specific item from a dictionary by using `.pop()` or the last inserted one with `.popitem()`"
   ]
  },
  {
   "cell_type": "code",
   "execution_count": 95,
   "id": "8258d0ba4e021037",
   "metadata": {
    "ExecuteTime": {
     "end_time": "2025-05-05T20:17:13.032762Z",
     "start_time": "2025-05-05T20:17:13.029688Z"
    }
   },
   "outputs": [
    {
     "name": "stdout",
     "output_type": "stream",
     "text": [
      "Travel to Antarctica\n",
      "{'name': 'xyz', 'age': 23, 'city': 'Hamburg', 'list_of_lessons': ['Technical Basics I', 'Agents and Interfaces'], 'active_member': False, 'job': 'student'}\n",
      "{'name': 'xyz', 'age': 23, 'city': 'Hamburg', 'list_of_lessons': ['Technical Basics I', 'Agents and Interfaces'], 'active_member': False}\n"
     ]
    }
   ],
   "source": [
    "print(my_dictionary.pop(\"dream\")) # it returns the value\n",
    "print(my_dictionary)\n",
    "my_dictionary.popitem()\n",
    "print(my_dictionary)"
   ]
  },
  {
   "cell_type": "markdown",
   "id": "14ca19c2665ddd",
   "metadata": {},
   "source": [
    "To check if a key already exist in a dictionary, use the membership operator `in`:"
   ]
  },
  {
   "cell_type": "code",
   "execution_count": 98,
   "id": "82a14b910926f492",
   "metadata": {
    "ExecuteTime": {
     "end_time": "2025-05-05T20:26:20.929145Z",
     "start_time": "2025-05-05T20:26:20.922732Z"
    }
   },
   "outputs": [
    {
     "name": "stdout",
     "output_type": "stream",
     "text": [
      "no dream :(\n"
     ]
    }
   ],
   "source": [
    "if \"dream\" in my_dictionary:\n",
    "    print(my_dictionary[\"dream\"])\n",
    "else:\n",
    "    print(\"no dream :(\")"
   ]
  },
  {
   "cell_type": "markdown",
   "id": "166d33ef6b0e6361",
   "metadata": {},
   "source": [
    "#### Task 2: Word Counter\n",
    "Write a function that takes a string and return a dictionary that counts all the words in it.\n",
    "\n",
    "Pay attention to the following:\n",
    "- Ignore all special characters\n",
    "- The same word with different capitalisation shall be counted as the same word\n",
    "\n",
    "Hint: Remember you can split a string to a list of words by using `split()`\n",
    "\n",
    "Challenge: Sort your result from higher frequency to lower frequency"
   ]
  },
  {
   "cell_type": "code",
   "execution_count": null,
   "id": "524c5c351442b521",
   "metadata": {
    "ExecuteTime": {
     "end_time": "2025-05-05T19:56:46.349145Z",
     "start_time": "2025-05-05T19:56:46.344132Z"
    }
   },
   "outputs": [
    {
     "name": "stderr",
     "output_type": "stream",
     "text": [
      "<>:5: SyntaxWarning: invalid escape sequence '\\W'\n",
      "<>:5: SyntaxWarning: invalid escape sequence '\\W'\n"
     ]
    },
    {
     "name": "stderr",
     "output_type": "stream",
     "text": [
      "/tmp/ipykernel_2191/3543504744.py:5: SyntaxWarning: invalid escape sequence '\\W'\n",
      "  corpus = re.sub('\\W+',' ', corpus)\n"
     ]
    }
   ],
   "source": [
    "import re\n",
    "\n",
    "def word_counter(corpus:str):\n",
    "    # this line helps to clean up the special characters\n",
    "    corpus = re.sub('\\W+',' ', corpus)\n",
    "    corpus.lower()\n",
    "    words = corpus.split()\n",
    "    \n",
    "\n",
    "test_input = \"This is a sentence that needs to be counted. Is the sentence long enough?\"\n",
    "print(word_counter(test_input))\n",
    "# {'is': 2, 'sentence': 2, 'this': 1, 'a': 1, 'that': 1, 'needs': 1, 'to': 1, 'be': 1, 'counted': 1, 'the': 1, 'long': 1, 'enough': 1}\n"
   ]
  },
  {
   "cell_type": "markdown",
   "id": "5885288d6df544b7",
   "metadata": {},
   "source": [
    "---\n",
    "### Tuple\n",
    "\n",
    "The following code creates a tuple containing the coordinates of a point. The items stored in a tuple can be accessed by index, just like the items in a list."
   ]
  },
  {
   "cell_type": "code",
   "execution_count": 27,
   "id": "bf5fb00c107084ff",
   "metadata": {
    "ExecuteTime": {
     "end_time": "2025-05-05T18:57:50.016111Z",
     "start_time": "2025-05-05T18:57:50.011893Z"
    }
   },
   "outputs": [
    {
     "name": "stdout",
     "output_type": "stream",
     "text": [
      "x coordinate: 5\n",
      "y coordinate: 8\n"
     ]
    }
   ],
   "source": [
    "point = (5,8)\n",
    "print(\"x coordinate:\", point[0])\n",
    "print(\"y coordinate:\", point[1])"
   ]
  },
  {
   "cell_type": "markdown",
   "id": "3844dac436f6cbfc",
   "metadata": {},
   "source": [
    "The values stored in a tuple cannot be changed after the tuple is initiated.  The following code will throw an error:"
   ]
  },
  {
   "cell_type": "code",
   "execution_count": 28,
   "id": "ab1e9990b08eceac",
   "metadata": {
    "ExecuteTime": {
     "end_time": "2025-05-05T18:59:07.291917Z",
     "start_time": "2025-05-05T18:59:07.277043Z"
    }
   },
   "outputs": [
    {
     "ename": "TypeError",
     "evalue": "'tuple' object does not support item assignment",
     "output_type": "error",
     "traceback": [
      "\u001b[0;31m---------------------------------------------------------------------------\u001b[0m",
      "\u001b[0;31mTypeError\u001b[0m                                 Traceback (most recent call last)",
      "Cell \u001b[0;32mIn[28], line 1\u001b[0m\n\u001b[0;32m----> 1\u001b[0m point[\u001b[38;5;241m0\u001b[39m] \u001b[38;5;241m=\u001b[39m \u001b[38;5;241m15\u001b[39m\n",
      "\u001b[0;31mTypeError\u001b[0m: 'tuple' object does not support item assignment"
     ]
    }
   ],
   "source": [
    "point[0] = 15\n"
   ]
  },
  {
   "cell_type": "markdown",
   "id": "8d603c23257e42a1",
   "metadata": {},
   "source": [
    "The parentheses are not strictly necessary when defining tuples. The following two variable assignments are identical in their results:"
   ]
  },
  {
   "cell_type": "code",
   "execution_count": 37,
   "id": "d57aaf5b6eb9b457",
   "metadata": {
    "ExecuteTime": {
     "end_time": "2025-05-05T19:08:18.535201Z",
     "start_time": "2025-05-05T19:08:18.532744Z"
    }
   },
   "outputs": [
    {
     "name": "stdout",
     "output_type": "stream",
     "text": [
      "5\n",
      "(3, 4, 5)\n"
     ]
    }
   ],
   "source": [
    "numbers = (1,2,3,4,5)\n",
    "numbers = 1,2,3,4,5\n",
    " # same logic of indexing applies to tuple\n",
    "print(numbers[-1])\n",
    "print(numbers[2:])"
   ]
  },
  {
   "cell_type": "markdown",
   "id": "3009005b50c3d66d",
   "metadata": {},
   "source": [
    "Since tuples are immutable, they do not have a built-in `append()` or `remove()` method, but there are other ways to add/remove items to a tuple."
   ]
  },
  {
   "cell_type": "code",
   "execution_count": 48,
   "id": "86893bd2269524f9",
   "metadata": {
    "ExecuteTime": {
     "end_time": "2025-05-05T19:16:58.926332Z",
     "start_time": "2025-05-05T19:16:58.922003Z"
    }
   },
   "outputs": [
    {
     "name": "stdout",
     "output_type": "stream",
     "text": [
      "('banana', 'cherry', 'orange')\n"
     ]
    }
   ],
   "source": [
    "thistuple = (\"apple\", \"banana\", \"cherry\")\n",
    "# we can convert a tuple to a list, so that we can change its items\n",
    "y = list(thistuple)\n",
    "y.append(\"orange\")\n",
    "y.remove(\"apple\")\n",
    "thistuple = tuple(y)\n",
    "print(thistuple)"
   ]
  },
  {
   "cell_type": "markdown",
   "id": "aec988c03d120d71",
   "metadata": {},
   "source": [
    "When creating a tuple with only one item, remember to include a comma after the item, otherwise it will not be identified as a tuple."
   ]
  },
  {
   "cell_type": "code",
   "execution_count": 41,
   "id": "531f78ce30b2df56",
   "metadata": {
    "ExecuteTime": {
     "end_time": "2025-05-05T19:11:20.626418Z",
     "start_time": "2025-05-05T19:11:20.622746Z"
    }
   },
   "outputs": [
    {
     "name": "stdout",
     "output_type": "stream",
     "text": [
      "<class 'tuple'>\n",
      "<class 'int'>\n"
     ]
    }
   ],
   "source": [
    "single_tuple = (1,)\n",
    "print(type(single_tuple))\n",
    "single_tuple = (1)\n",
    "print(type(single_tuple))"
   ]
  },
  {
   "cell_type": "markdown",
   "id": "30e4795596370755",
   "metadata": {},
   "source": [
    "You can count the number of times a value appears in a tuple with `.count()`:"
   ]
  },
  {
   "cell_type": "code",
   "execution_count": 43,
   "id": "ce76bd5554e847a3",
   "metadata": {
    "ExecuteTime": {
     "end_time": "2025-05-05T19:15:08.308348Z",
     "start_time": "2025-05-05T19:15:08.305082Z"
    }
   },
   "outputs": [
    {
     "name": "stdout",
     "output_type": "stream",
     "text": [
      "2\n"
     ]
    }
   ],
   "source": [
    "this_tuple = (1, 3, 7, 8, 7, 5, 4, 6, 8, 5)\n",
    "\n",
    "x = this_tuple.count(5)\n",
    "\n",
    "print(x)"
   ]
  },
  {
   "cell_type": "markdown",
   "id": "81f04c6683c14c",
   "metadata": {},
   "source": [
    "Or search the first occurrence of a value and get its position with `.index()`"
   ]
  },
  {
   "cell_type": "code",
   "execution_count": 46,
   "id": "839724737ce1603e",
   "metadata": {
    "ExecuteTime": {
     "end_time": "2025-05-05T19:15:29.072240Z",
     "start_time": "2025-05-05T19:15:29.068098Z"
    }
   },
   "outputs": [
    {
     "name": "stdout",
     "output_type": "stream",
     "text": [
      "2\n"
     ]
    }
   ],
   "source": [
    "y = this_tuple.index(7)\n",
    "print(y)"
   ]
  },
  {
   "cell_type": "markdown",
   "id": "462749a9a3e36ea3",
   "metadata": {},
   "source": [
    "You can use tuples as keys for dictionary, because they are immutable"
   ]
  },
  {
   "cell_type": "code",
   "execution_count": 1,
   "id": "3201ab95f0a48498",
   "metadata": {
    "ExecuteTime": {
     "end_time": "2025-05-05T21:05:02.363530Z",
     "start_time": "2025-05-05T21:05:02.356313Z"
    }
   },
   "outputs": [],
   "source": [
    "tuple_dictionary = {}\n",
    "\n",
    "tuple_dictionary[(0,0)] = \"upper left \"\n",
    "tuple_dictionary[(1,1)] = \"  center   \"\n",
    "tuple_dictionary[(2,2)] = \"lower right\""
   ]
  },
  {
   "cell_type": "markdown",
   "id": "05456658",
   "metadata": {},
   "source": []
  },
  {
   "cell_type": "markdown",
   "id": "480bd58ed3b84d33",
   "metadata": {},
   "source": [
    "#### Task 3\n",
    "Print the `tuple_dictionary` above in a 3x3 grid\n",
    "- Skip the position if the key does not exist\n",
    "- Use `|` as seperator to separate the text so that the printed result shall look like the following"
   ]
  },
  {
   "cell_type": "code",
   "execution_count": null,
   "id": "1850c37f1d8fcfd7",
   "metadata": {},
   "outputs": [],
   "source": [
    "# Your result:\n",
    "# |upper left |           |           |\n",
    "# |           |  center   |           |\n",
    "# |           |           |lower right|\n"
   ]
  },
  {
   "cell_type": "code",
   "execution_count": 8,
   "id": "088eca62",
   "metadata": {},
   "outputs": [
    {
     "name": "stdout",
     "output_type": "stream",
     "text": [
      "| upper left |           |           |\n",
      "|            |  center   |           |\n",
      "|            |           |lower right|\n"
     ]
    }
   ],
   "source": [
    "for x in range(3):\n",
    "    print(\"|\", end=\" \")\n",
    "    for y in range(3):\n",
    "        content = \"           \"\n",
    "        if (x, y) in tuple_dictionary:\n",
    "            content = tuple_dictionary[(x, y)]\n",
    "        print(content, end=\"|\")\n",
    "    print(\"\")"
   ]
  },
  {
   "cell_type": "markdown",
   "id": "6f1a30a21270eaf9",
   "metadata": {},
   "source": [
    "#### Set\n",
    "A set is a collection of different items. The values `True` - `1` and `False` - `0` are considered the same value in sets, and are treated as duplicates\n"
   ]
  },
  {
   "cell_type": "code",
   "execution_count": 128,
   "id": "9cf5010d47e0e350",
   "metadata": {
    "ExecuteTime": {
     "end_time": "2025-05-05T22:33:38.073030Z",
     "start_time": "2025-05-05T22:33:38.070488Z"
    }
   },
   "outputs": [
    {
     "name": "stdout",
     "output_type": "stream",
     "text": [
      "{0, True}\n"
     ]
    }
   ],
   "source": [
    "unique_set = {True, 1,0, False} # if you init a set with duplicates, the later ones won't be inserted\n",
    "print(unique_set)"
   ]
  },
  {
   "cell_type": "markdown",
   "id": "b4fd8bd0aa3c7a85",
   "metadata": {},
   "source": [
    "Since a set is not ordered, to add an item is called `.add()` instead of `.append()`, or you can always use `.update()` for multiple items."
   ]
  },
  {
   "cell_type": "code",
   "execution_count": 129,
   "id": "cf05daeaa6542303",
   "metadata": {
    "ExecuteTime": {
     "end_time": "2025-05-06T05:36:45.726401Z",
     "start_time": "2025-05-06T05:36:45.714233Z"
    }
   },
   "outputs": [
    {
     "name": "stdout",
     "output_type": "stream",
     "text": [
      "{1, 2, 3, 4, 5, 6}\n",
      "{1, 2, 3, 4, 5, 6, 7, 8}\n"
     ]
    }
   ],
   "source": [
    "integer_set = {1,2,3,4,5}\n",
    "integer_set.add(6)\n",
    "print(integer_set)\n",
    "integer_set.update({7,8})\n",
    "print(integer_set)"
   ]
  },
  {
   "cell_type": "markdown",
   "id": "ff1c3f72c801892f",
   "metadata": {},
   "source": [
    "To remove an item you have two choices: `.remove()` or `.discard()`. The `remove()` method will raise an error if the specified item does not exist, while the `discard()` method will not."
   ]
  },
  {
   "cell_type": "code",
   "execution_count": 131,
   "id": "4e6454a10d39549a",
   "metadata": {
    "ExecuteTime": {
     "end_time": "2025-05-06T05:45:39.487072Z",
     "start_time": "2025-05-06T05:45:39.470275Z"
    }
   },
   "outputs": [
    {
     "ename": "KeyError",
     "evalue": "6",
     "output_type": "error",
     "traceback": [
      "\u001b[0;31m---------------------------------------------------------------------------\u001b[0m",
      "\u001b[0;31mKeyError\u001b[0m                                  Traceback (most recent call last)",
      "Cell \u001b[0;32mIn[131], line 1\u001b[0m\n\u001b[0;32m----> 1\u001b[0m \u001b[43minteger_set\u001b[49m\u001b[38;5;241;43m.\u001b[39;49m\u001b[43mremove\u001b[49m\u001b[43m(\u001b[49m\u001b[38;5;241;43m6\u001b[39;49m\u001b[43m)\u001b[49m\n\u001b[1;32m      2\u001b[0m \u001b[38;5;28mprint\u001b[39m(integer_set)\n\u001b[1;32m      3\u001b[0m integer_set\u001b[38;5;241m.\u001b[39mdiscard(\u001b[38;5;241m6\u001b[39m)\n",
      "\u001b[0;31mKeyError\u001b[0m: 6"
     ]
    }
   ],
   "source": [
    "integer_set.remove(6)\n",
    "print(integer_set)\n",
    "integer_set.discard(6)\n",
    "print(integer_set)"
   ]
  },
  {
   "cell_type": "markdown",
   "id": "bcfef67f4b25f4e6",
   "metadata": {},
   "source": [
    "It's not necessary to remember every method of a data type at the beginning. You can always look it up to double check!"
   ]
  },
  {
   "cell_type": "markdown",
   "id": "154a85bccfa8f9e9",
   "metadata": {},
   "source": [
    "What are unique to set are set operations and subset/superset check ups. You can either use symbols or the textual equivalent for the same methods."
   ]
  },
  {
   "cell_type": "code",
   "execution_count": 136,
   "id": "51c0ce1474a8783",
   "metadata": {
    "ExecuteTime": {
     "end_time": "2025-05-06T06:00:23.461360Z",
     "start_time": "2025-05-06T06:00:23.453723Z"
    }
   },
   "outputs": [
    {
     "name": "stdout",
     "output_type": "stream",
     "text": [
      "{'banana', 'microsoft', 'apple', 'google', 'cherry'}\n",
      "{'apple'}\n",
      "{'banana', 'cherry'}\n",
      "{'banana', 'microsoft', 'google', 'cherry'}\n",
      "True\n",
      "True\n"
     ]
    }
   ],
   "source": [
    "x = {\"apple\", \"banana\", \"cherry\"}\n",
    "y = {\"google\", \"microsoft\", \"apple\"}\n",
    "\n",
    "u = x | y # x.union(y)\n",
    "i = x & y # x.intersection(y)\n",
    "d = x - y # x.difference(y)\n",
    "sd = x ^ y # x.symmetric_difference(y)\n",
    "\n",
    "print(u)\n",
    "print(i)\n",
    "print(d)\n",
    "print(sd)\n",
    "\n",
    "odd_set = {1,3,5}\n",
    "print(odd_set <= integer_set) # odd_set.is_subset(integer_set)\n",
    "print(integer_set >= odd_set) # integer_set.is_superset(odd_set)"
   ]
  },
  {
   "cell_type": "markdown",
   "id": "a2f24dc47f1696dc",
   "metadata": {},
   "source": [
    "#### Task 4\n",
    "Write a function that get unique values out of a series of user inputs\n",
    "\n",
    "Challenge: how to return things in their original order?"
   ]
  },
  {
   "cell_type": "code",
   "execution_count": 139,
   "id": "9efd189455267e09",
   "metadata": {
    "ExecuteTime": {
     "end_time": "2025-05-06T06:01:59.893293Z",
     "start_time": "2025-05-06T06:01:52.632464Z"
    }
   },
   "outputs": [
    {
     "name": "stdout",
     "output_type": "stream",
     "text": [
      "['3', '5', '3', '7']\n",
      "['5', '3', '7']\n"
     ]
    }
   ],
   "source": [
    "def get_unique_numbers(numbers:list):\n",
    "    # hint: make use of set\n",
    "    pass\n",
    "\n",
    "user_input = input(\"provide a series of numbers and seperate them by ,\")\n",
    "numbers = user_input.split(\",\")\n",
    "print(numbers)\n",
    "unique_numbers = get_unique_numbers(numbers)\n",
    "print(unique_numbers)"
   ]
  }
 ],
 "metadata": {
  "kernelspec": {
   "display_name": "Python 3 (ipykernel)",
   "language": "python",
   "name": "python3"
  },
  "language_info": {
   "codemirror_mode": {
    "name": "ipython",
    "version": 3
   },
   "file_extension": ".py",
   "mimetype": "text/x-python",
   "name": "python",
   "nbconvert_exporter": "python",
   "pygments_lexer": "ipython3",
   "version": "3.12.1"
  }
 },
 "nbformat": 4,
 "nbformat_minor": 5
}
