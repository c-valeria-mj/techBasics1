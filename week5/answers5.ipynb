{
 "cells": [
  {
   "metadata": {},
   "cell_type": "markdown",
   "source": "#### Task 1",
   "id": "fc98362f75f83a14"
  },
  {
   "cell_type": "code",
   "id": "initial_id",
   "metadata": {
    "collapsed": true,
    "ExecuteTime": {
     "end_time": "2025-05-05T20:27:44.353658Z",
     "start_time": "2025-05-05T20:27:44.346387Z"
    }
   },
   "source": [
    "def print_sudoku(sudoku:list):\n",
    "    for row in sudoku:\n",
    "        for col in row:\n",
    "            if col == 0:\n",
    "                col = \"_\"\n",
    "            print(col, end='  ')\n",
    "        print()\n",
    "\n",
    "def add_number(sudoku:list, row_no:int, col_no:int, n:int):\n",
    "    sudoku[row_no][col_no] = n\n",
    "\n",
    "sudoku  = [\n",
    "    [0, 0, 0, 0, 0, 0, 0, 0, 0],\n",
    "    [0, 0, 0, 0, 0, 0, 0, 0, 0],\n",
    "    [0, 0, 0, 0, 0, 0, 0, 0, 0],\n",
    "    [0, 0, 0, 0, 0, 0, 0, 0, 0],\n",
    "    [0, 0, 0, 0, 0, 0, 0, 0, 0],\n",
    "    [0, 0, 0, 0, 0, 0, 0, 0, 0],\n",
    "    [0, 0, 0, 0, 0, 0, 0, 0, 0],\n",
    "    [0, 0, 0, 0, 0, 0, 0, 0, 0],\n",
    "    [0, 0, 0, 0, 0, 0, 0, 0, 0]\n",
    "]\n",
    "\n",
    "print_sudoku(sudoku)\n",
    "add_number(sudoku, 0, 0, 2)\n",
    "add_number(sudoku, 1, 2, 7)\n",
    "add_number(sudoku, 5, 7, 3)\n",
    "print()\n",
    "print(\"Three numbers added:\")\n",
    "print()\n",
    "print_sudoku(sudoku)"
   ],
   "outputs": [
    {
     "name": "stdout",
     "output_type": "stream",
     "text": [
      "_  _  _  _  _  _  _  _  _  \n",
      "_  _  _  _  _  _  _  _  _  \n",
      "_  _  _  _  _  _  _  _  _  \n",
      "_  _  _  _  _  _  _  _  _  \n",
      "_  _  _  _  _  _  _  _  _  \n",
      "_  _  _  _  _  _  _  _  _  \n",
      "_  _  _  _  _  _  _  _  _  \n",
      "_  _  _  _  _  _  _  _  _  \n",
      "_  _  _  _  _  _  _  _  _  \n",
      "\n",
      "Three numbers added:\n",
      "\n",
      "2  _  _  _  _  _  _  _  _  \n",
      "_  _  7  _  _  _  _  _  _  \n",
      "_  _  _  _  _  _  _  _  _  \n",
      "_  _  _  _  _  _  _  _  _  \n",
      "_  _  _  _  _  _  _  _  _  \n",
      "_  _  _  _  _  _  _  3  _  \n",
      "_  _  _  _  _  _  _  _  _  \n",
      "_  _  _  _  _  _  _  _  _  \n",
      "_  _  _  _  _  _  _  _  _  \n"
     ]
    }
   ],
   "execution_count": 11
  },
  {
   "metadata": {},
   "cell_type": "markdown",
   "source": "#### Task 2 Word Counter",
   "id": "c7fc1a2e45ae6e97"
  },
  {
   "metadata": {
    "ExecuteTime": {
     "end_time": "2025-05-06T10:45:15.294163Z",
     "start_time": "2025-05-06T10:45:15.284725Z"
    }
   },
   "cell_type": "code",
   "source": [
    "import re\n",
    "\n",
    "def word_counter(corpus:str):\n",
    "    corpus = re.sub('\\W+',' ', corpus)\n",
    "    new_dict = {}\n",
    "    words = corpus.split()\n",
    "    for word in words:\n",
    "        word = word.lower()\n",
    "        if word in new_dict:\n",
    "            new_dict[word] += 1\n",
    "        else:\n",
    "            new_dict[word] = 1\n",
    "\n",
    "\n",
    "    # sort with sorted()\n",
    "    sorted_result = sorted(new_dict.items(), key=lambda x:x[1], reverse=True)\n",
    "    # convert back to dict\n",
    "    return dict(sorted_result)\n",
    "\n",
    "test_input = \"This is a sentence that needs to be counted. Is the sentence long enough?\"\n",
    "print(word_counter(test_input))\n",
    "\n"
   ],
   "id": "81a02e61de993bc0",
   "outputs": [
    {
     "name": "stdout",
     "output_type": "stream",
     "text": [
      "{'is': 2, 'sentence': 2, 'this': 1, 'a': 1, 'that': 1, 'needs': 1, 'to': 1, 'be': 1, 'counted': 1, 'the': 1, 'long': 1, 'enough': 1}\n"
     ]
    }
   ],
   "execution_count": 14
  },
  {
   "metadata": {},
   "cell_type": "markdown",
   "source": "#### Task 3",
   "id": "8ed2be1f0bcb699b"
  },
  {
   "metadata": {
    "ExecuteTime": {
     "end_time": "2025-05-05T21:04:53.334156Z",
     "start_time": "2025-05-05T21:04:53.324480Z"
    }
   },
   "cell_type": "code",
   "source": [
    "tuple_dictionary = {}\n",
    "\n",
    "tuple_dictionary[(0,0)] = \"upper left \"\n",
    "tuple_dictionary[(1,1)] = \"  center   \"\n",
    "tuple_dictionary[(2,2)] = \"lower right\"\n",
    "\n",
    "for y in range(3):\n",
    "    print(\"\", end=\"|\")\n",
    "    for x in range(3):\n",
    "        if (x, y) not in tuple_dictionary:\n",
    "            print(\"           \", end=\"|\")\n",
    "        else:\n",
    "            print(tuple_dictionary[(x,y)], end=\"|\")\n",
    "    print()"
   ],
   "id": "51a25e2c9759bc54",
   "outputs": [
    {
     "name": "stdout",
     "output_type": "stream",
     "text": [
      "|upper left |           |           |\n",
      "|           |  center   |           |\n",
      "|           |           |lower right|\n"
     ]
    }
   ],
   "execution_count": 12
  },
  {
   "metadata": {},
   "cell_type": "markdown",
   "source": "#### Task 4",
   "id": "587e008964ba75ff"
  },
  {
   "metadata": {
    "ExecuteTime": {
     "end_time": "2025-05-06T06:04:29.270053Z",
     "start_time": "2025-05-06T06:04:22.711807Z"
    }
   },
   "cell_type": "code",
   "source": [
    "def get_unique_numbers(lst:list):\n",
    "    return list(set(lst))\n",
    "\n",
    "def get_unique_numbers_ordered(lst):\n",
    "    seen = set()\n",
    "    unique = []\n",
    "    for item in lst:\n",
    "        if item not in seen:\n",
    "            seen.add(item)\n",
    "            unique.append(item)\n",
    "    return unique\n",
    "\n",
    "user_input = input(\"provide a series of numbers and separate them by ,\")\n",
    "numbers = user_input.split(\",\")\n",
    "print(numbers)\n",
    "unique_numbers = get_unique_numbers(numbers)\n",
    "print(unique_numbers)\n",
    "unique_numbers = get_unique_numbers_ordered(numbers)\n",
    "print(unique_numbers)\n"
   ],
   "id": "e5111ef8051441df",
   "outputs": [
    {
     "name": "stdout",
     "output_type": "stream",
     "text": [
      "['3', '3', '5', '7', '9', '7']\n",
      "['5', '3', '7', '9']\n",
      "['3', '5', '7', '9']\n"
     ]
    }
   ],
   "execution_count": 13
  }
 ],
 "metadata": {
  "kernelspec": {
   "display_name": "Python 3",
   "language": "python",
   "name": "python3"
  },
  "language_info": {
   "codemirror_mode": {
    "name": "ipython",
    "version": 2
   },
   "file_extension": ".py",
   "mimetype": "text/x-python",
   "name": "python",
   "nbconvert_exporter": "python",
   "pygments_lexer": "ipython2",
   "version": "2.7.6"
  }
 },
 "nbformat": 4,
 "nbformat_minor": 5
}
